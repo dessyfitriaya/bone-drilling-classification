{
 "cells": [
  {
   "cell_type": "markdown",
   "metadata": {
    "id": "qHdiqGtLZs-N"
   },
   "source": [
    "# Library"
   ]
  },
  {
   "cell_type": "code",
   "execution_count": 1,
   "metadata": {
    "executionInfo": {
     "elapsed": 2120,
     "status": "ok",
     "timestamp": 1712536963146,
     "user": {
      "displayName": "hello dello",
      "userId": "14773755107488894293"
     },
     "user_tz": -480
    },
    "id": "lnO7tiioY-_q"
   },
   "outputs": [],
   "source": [
    "import pandas as pd\n",
    "import seaborn as sns\n",
    "import matplotlib.pyplot as plt\n",
    "import numpy as np"
   ]
  },
  {
   "cell_type": "markdown",
   "metadata": {
    "id": "oE6efsd9aMPG"
   },
   "source": [
    "# Gathering Data"
   ]
  },
  {
   "cell_type": "markdown",
   "metadata": {
    "id": "fJX_8dmt24Jb"
   },
   "source": [
    "Layer 1"
   ]
  },
  {
   "cell_type": "code",
   "execution_count": 2,
   "metadata": {
    "executionInfo": {
     "elapsed": 7371,
     "status": "ok",
     "timestamp": 1712536970511,
     "user": {
      "displayName": "hello dello",
      "userId": "14773755107488894293"
     },
     "user_tz": -480
    },
    "id": "mKc1jhUAZyrI"
   },
   "outputs": [],
   "source": [
    "layer1 = pd.read_excel('hole4-layer1.xlsx')"
   ]
  },
  {
   "cell_type": "markdown",
   "metadata": {
    "id": "fcOfgWuF3E-Q"
   },
   "source": [
    "Layer 2"
   ]
  },
  {
   "cell_type": "code",
   "execution_count": 3,
   "metadata": {
    "executionInfo": {
     "elapsed": 3301,
     "status": "ok",
     "timestamp": 1712536973782,
     "user": {
      "displayName": "hello dello",
      "userId": "14773755107488894293"
     },
     "user_tz": -480
    },
    "id": "vyjCI9kgiWN4"
   },
   "outputs": [],
   "source": [
    "layer2 = pd.read_excel('hole4-layer2.xlsx')"
   ]
  },
  {
   "cell_type": "markdown",
   "metadata": {
    "id": "jEy5ydqn3I8L"
   },
   "source": [
    "Layer 3"
   ]
  },
  {
   "cell_type": "code",
   "execution_count": 4,
   "metadata": {
    "executionInfo": {
     "elapsed": 3849,
     "status": "ok",
     "timestamp": 1712536977622,
     "user": {
      "displayName": "hello dello",
      "userId": "14773755107488894293"
     },
     "user_tz": -480
    },
    "id": "5GUzVde73ITZ"
   },
   "outputs": [],
   "source": [
    "layer3 = pd.read_excel('hole4-layer3.xlsx')"
   ]
  },
  {
   "cell_type": "markdown",
   "metadata": {
    "id": "Q1n4-Fibiz2f"
   },
   "source": [
    "# Cleaning Data"
   ]
  },
  {
   "cell_type": "markdown",
   "metadata": {
    "id": "Kj5WJuQynjft"
   },
   "source": [
    "**Missing Value**"
   ]
  },
  {
   "cell_type": "code",
   "execution_count": 5,
   "metadata": {
    "executionInfo": {
     "elapsed": 61,
     "status": "ok",
     "timestamp": 1712536977623,
     "user": {
      "displayName": "hello dello",
      "userId": "14773755107488894293"
     },
     "user_tz": -480
    },
    "id": "uSwxoT42BE3g"
   },
   "outputs": [],
   "source": [
    "def check_nan_null(dataframe):\n",
    "  if dataframe.isnull().values.any() == True:\n",
    "      print(\"DataFrame contains NaN or null values.\")\n",
    "  else:\n",
    "      print(\"DataFrame does not contain any NaN or null values.\")"
   ]
  },
  {
   "cell_type": "code",
   "execution_count": 6,
   "metadata": {
    "colab": {
     "base_uri": "https://localhost:8080/"
    },
    "executionInfo": {
     "elapsed": 57,
     "status": "ok",
     "timestamp": 1712536977624,
     "user": {
      "displayName": "hello dello",
      "userId": "14773755107488894293"
     },
     "user_tz": -480
    },
    "id": "5dIU5T8EBj_s",
    "outputId": "9f209b57-1627-4b97-f7c0-32c074510f56"
   },
   "outputs": [
    {
     "name": "stdout",
     "output_type": "stream",
     "text": [
      "DataFrame does not contain any NaN or null values.\n",
      "DataFrame does not contain any NaN or null values.\n",
      "DataFrame does not contain any NaN or null values.\n"
     ]
    }
   ],
   "source": [
    "check_nan_null(layer1)\n",
    "check_nan_null(layer2)\n",
    "check_nan_null(layer3)"
   ]
  },
  {
   "cell_type": "markdown",
   "metadata": {
    "id": "AYuCyxteCPwa"
   },
   "source": [
    "**Add new column**"
   ]
  },
  {
   "cell_type": "code",
   "execution_count": 7,
   "metadata": {
    "colab": {
     "base_uri": "https://localhost:8080/",
     "height": 424
    },
    "executionInfo": {
     "elapsed": 52,
     "status": "ok",
     "timestamp": 1712536977625,
     "user": {
      "displayName": "hello dello",
      "userId": "14773755107488894293"
     },
     "user_tz": -480
    },
    "id": "9VKEbKw-CRUb",
    "outputId": "13522dc7-a7d5-4f32-f514-6d0178d7102a"
   },
   "outputs": [
    {
     "data": {
      "text/html": [
       "<div>\n",
       "<style scoped>\n",
       "    .dataframe tbody tr th:only-of-type {\n",
       "        vertical-align: middle;\n",
       "    }\n",
       "\n",
       "    .dataframe tbody tr th {\n",
       "        vertical-align: top;\n",
       "    }\n",
       "\n",
       "    .dataframe thead th {\n",
       "        text-align: right;\n",
       "    }\n",
       "</style>\n",
       "<table border=\"1\" class=\"dataframe\">\n",
       "  <thead>\n",
       "    <tr style=\"text-align: right;\">\n",
       "      <th></th>\n",
       "      <th>X</th>\n",
       "      <th>Y</th>\n",
       "      <th>Z</th>\n",
       "      <th>layer</th>\n",
       "    </tr>\n",
       "  </thead>\n",
       "  <tbody>\n",
       "    <tr>\n",
       "      <th>0</th>\n",
       "      <td>-0.002619</td>\n",
       "      <td>-0.027069</td>\n",
       "      <td>-0.138465</td>\n",
       "      <td>Layer1</td>\n",
       "    </tr>\n",
       "    <tr>\n",
       "      <th>1</th>\n",
       "      <td>-0.003619</td>\n",
       "      <td>-0.023469</td>\n",
       "      <td>-0.106547</td>\n",
       "      <td>Layer1</td>\n",
       "    </tr>\n",
       "    <tr>\n",
       "      <th>2</th>\n",
       "      <td>0.004163</td>\n",
       "      <td>0.031033</td>\n",
       "      <td>-0.152401</td>\n",
       "      <td>Layer1</td>\n",
       "    </tr>\n",
       "    <tr>\n",
       "      <th>3</th>\n",
       "      <td>0.001735</td>\n",
       "      <td>-0.003467</td>\n",
       "      <td>-0.067418</td>\n",
       "      <td>Layer1</td>\n",
       "    </tr>\n",
       "    <tr>\n",
       "      <th>4</th>\n",
       "      <td>-0.012121</td>\n",
       "      <td>0.003440</td>\n",
       "      <td>-0.125747</td>\n",
       "      <td>Layer1</td>\n",
       "    </tr>\n",
       "    <tr>\n",
       "      <th>...</th>\n",
       "      <td>...</td>\n",
       "      <td>...</td>\n",
       "      <td>...</td>\n",
       "      <td>...</td>\n",
       "    </tr>\n",
       "    <tr>\n",
       "      <th>49995</th>\n",
       "      <td>0.043827</td>\n",
       "      <td>0.004404</td>\n",
       "      <td>-0.126965</td>\n",
       "      <td>Layer1</td>\n",
       "    </tr>\n",
       "    <tr>\n",
       "      <th>49996</th>\n",
       "      <td>-0.068276</td>\n",
       "      <td>-0.092323</td>\n",
       "      <td>-0.142327</td>\n",
       "      <td>Layer1</td>\n",
       "    </tr>\n",
       "    <tr>\n",
       "      <th>49997</th>\n",
       "      <td>0.054451</td>\n",
       "      <td>0.045983</td>\n",
       "      <td>-0.104086</td>\n",
       "      <td>Layer1</td>\n",
       "    </tr>\n",
       "    <tr>\n",
       "      <th>49998</th>\n",
       "      <td>-0.030014</td>\n",
       "      <td>-0.011375</td>\n",
       "      <td>-0.066589</td>\n",
       "      <td>Layer1</td>\n",
       "    </tr>\n",
       "    <tr>\n",
       "      <th>49999</th>\n",
       "      <td>0.021165</td>\n",
       "      <td>0.020941</td>\n",
       "      <td>-0.101686</td>\n",
       "      <td>Layer1</td>\n",
       "    </tr>\n",
       "  </tbody>\n",
       "</table>\n",
       "<p>50000 rows × 4 columns</p>\n",
       "</div>"
      ],
      "text/plain": [
       "              X         Y         Z   layer\n",
       "0     -0.002619 -0.027069 -0.138465  Layer1\n",
       "1     -0.003619 -0.023469 -0.106547  Layer1\n",
       "2      0.004163  0.031033 -0.152401  Layer1\n",
       "3      0.001735 -0.003467 -0.067418  Layer1\n",
       "4     -0.012121  0.003440 -0.125747  Layer1\n",
       "...         ...       ...       ...     ...\n",
       "49995  0.043827  0.004404 -0.126965  Layer1\n",
       "49996 -0.068276 -0.092323 -0.142327  Layer1\n",
       "49997  0.054451  0.045983 -0.104086  Layer1\n",
       "49998 -0.030014 -0.011375 -0.066589  Layer1\n",
       "49999  0.021165  0.020941 -0.101686  Layer1\n",
       "\n",
       "[50000 rows x 4 columns]"
      ]
     },
     "execution_count": 7,
     "metadata": {},
     "output_type": "execute_result"
    }
   ],
   "source": [
    "layer1['layer'] = \"Layer1\"\n",
    "layer2['layer'] = \"Layer2\"\n",
    "layer3['layer'] = \"Layer3\"\n",
    "\n",
    "layer1"
   ]
  },
  {
   "cell_type": "markdown",
   "metadata": {
    "id": "Wsj2S2aGDPhI"
   },
   "source": [
    "**Merge all dataframes**"
   ]
  },
  {
   "cell_type": "code",
   "execution_count": 8,
   "metadata": {
    "colab": {
     "base_uri": "https://localhost:8080/",
     "height": 424
    },
    "executionInfo": {
     "elapsed": 49,
     "status": "ok",
     "timestamp": 1712536977625,
     "user": {
      "displayName": "hello dello",
      "userId": "14773755107488894293"
     },
     "user_tz": -480
    },
    "id": "nZ7DLKZmDO38",
    "outputId": "5886abdc-b437-4bec-c9da-d26f6b436799"
   },
   "outputs": [
    {
     "data": {
      "text/html": [
       "<div>\n",
       "<style scoped>\n",
       "    .dataframe tbody tr th:only-of-type {\n",
       "        vertical-align: middle;\n",
       "    }\n",
       "\n",
       "    .dataframe tbody tr th {\n",
       "        vertical-align: top;\n",
       "    }\n",
       "\n",
       "    .dataframe thead th {\n",
       "        text-align: right;\n",
       "    }\n",
       "</style>\n",
       "<table border=\"1\" class=\"dataframe\">\n",
       "  <thead>\n",
       "    <tr style=\"text-align: right;\">\n",
       "      <th></th>\n",
       "      <th>X</th>\n",
       "      <th>Y</th>\n",
       "      <th>Z</th>\n",
       "      <th>layer</th>\n",
       "    </tr>\n",
       "  </thead>\n",
       "  <tbody>\n",
       "    <tr>\n",
       "      <th>0</th>\n",
       "      <td>-0.002619</td>\n",
       "      <td>-0.027069</td>\n",
       "      <td>-0.138465</td>\n",
       "      <td>Layer1</td>\n",
       "    </tr>\n",
       "    <tr>\n",
       "      <th>1</th>\n",
       "      <td>-0.003619</td>\n",
       "      <td>-0.023469</td>\n",
       "      <td>-0.106547</td>\n",
       "      <td>Layer1</td>\n",
       "    </tr>\n",
       "    <tr>\n",
       "      <th>2</th>\n",
       "      <td>0.004163</td>\n",
       "      <td>0.031033</td>\n",
       "      <td>-0.152401</td>\n",
       "      <td>Layer1</td>\n",
       "    </tr>\n",
       "    <tr>\n",
       "      <th>3</th>\n",
       "      <td>0.001735</td>\n",
       "      <td>-0.003467</td>\n",
       "      <td>-0.067418</td>\n",
       "      <td>Layer1</td>\n",
       "    </tr>\n",
       "    <tr>\n",
       "      <th>4</th>\n",
       "      <td>-0.012121</td>\n",
       "      <td>0.003440</td>\n",
       "      <td>-0.125747</td>\n",
       "      <td>Layer1</td>\n",
       "    </tr>\n",
       "    <tr>\n",
       "      <th>...</th>\n",
       "      <td>...</td>\n",
       "      <td>...</td>\n",
       "      <td>...</td>\n",
       "      <td>...</td>\n",
       "    </tr>\n",
       "    <tr>\n",
       "      <th>149995</th>\n",
       "      <td>-0.056249</td>\n",
       "      <td>-0.071760</td>\n",
       "      <td>-0.007505</td>\n",
       "      <td>Layer3</td>\n",
       "    </tr>\n",
       "    <tr>\n",
       "      <th>149996</th>\n",
       "      <td>-0.076167</td>\n",
       "      <td>-0.084977</td>\n",
       "      <td>0.001595</td>\n",
       "      <td>Layer3</td>\n",
       "    </tr>\n",
       "    <tr>\n",
       "      <th>149997</th>\n",
       "      <td>-0.064031</td>\n",
       "      <td>-0.100146</td>\n",
       "      <td>0.000097</td>\n",
       "      <td>Layer3</td>\n",
       "    </tr>\n",
       "    <tr>\n",
       "      <th>149998</th>\n",
       "      <td>-0.054371</td>\n",
       "      <td>-0.075177</td>\n",
       "      <td>-0.026229</td>\n",
       "      <td>Layer3</td>\n",
       "    </tr>\n",
       "    <tr>\n",
       "      <th>149999</th>\n",
       "      <td>-0.024805</td>\n",
       "      <td>-0.059275</td>\n",
       "      <td>-0.059999</td>\n",
       "      <td>Layer3</td>\n",
       "    </tr>\n",
       "  </tbody>\n",
       "</table>\n",
       "<p>150000 rows × 4 columns</p>\n",
       "</div>"
      ],
      "text/plain": [
       "               X         Y         Z   layer\n",
       "0      -0.002619 -0.027069 -0.138465  Layer1\n",
       "1      -0.003619 -0.023469 -0.106547  Layer1\n",
       "2       0.004163  0.031033 -0.152401  Layer1\n",
       "3       0.001735 -0.003467 -0.067418  Layer1\n",
       "4      -0.012121  0.003440 -0.125747  Layer1\n",
       "...          ...       ...       ...     ...\n",
       "149995 -0.056249 -0.071760 -0.007505  Layer3\n",
       "149996 -0.076167 -0.084977  0.001595  Layer3\n",
       "149997 -0.064031 -0.100146  0.000097  Layer3\n",
       "149998 -0.054371 -0.075177 -0.026229  Layer3\n",
       "149999 -0.024805 -0.059275 -0.059999  Layer3\n",
       "\n",
       "[150000 rows x 4 columns]"
      ]
     },
     "execution_count": 8,
     "metadata": {},
     "output_type": "execute_result"
    }
   ],
   "source": [
    "df = pd.concat([layer1, layer2, layer3], ignore_index=True)\n",
    "df"
   ]
  },
  {
   "cell_type": "markdown",
   "metadata": {
    "id": "-YCwMLvCvGqX"
   },
   "source": [
    "# Feature Engineering"
   ]
  },
  {
   "cell_type": "markdown",
   "metadata": {
    "id": "j6MVznKztEVl"
   },
   "source": [
    "## One-Hot Encoding"
   ]
  },
  {
   "cell_type": "code",
   "execution_count": 9,
   "metadata": {
    "colab": {
     "base_uri": "https://localhost:8080/",
     "height": 53
    },
    "executionInfo": {
     "elapsed": 48,
     "status": "ok",
     "timestamp": 1712536977626,
     "user": {
      "displayName": "hello dello",
      "userId": "14773755107488894293"
     },
     "user_tz": -480
    },
    "id": "LpfxDbF7vvot",
    "outputId": "b208a400-2341-47f8-8cca-0a26f8eb75e5"
   },
   "outputs": [
    {
     "data": {
      "text/plain": [
       "\"\\nfrom sklearn.preprocessing import OneHotEncoder\\n\\ndf = pd.concat([df, pd.get_dummies(df['layer'], prefix='layer')], axis=1)\\ndf.drop(['layer'], axis=1, inplace=True)\\ndf.head()\\n\""
      ]
     },
     "execution_count": 9,
     "metadata": {},
     "output_type": "execute_result"
    }
   ],
   "source": [
    "\"\"\"\n",
    "from sklearn.preprocessing import OneHotEncoder\n",
    "\n",
    "df = pd.concat([df, pd.get_dummies(df['layer'], prefix='layer')], axis=1)\n",
    "df.drop(['layer'], axis=1, inplace=True)\n",
    "df.head()\n",
    "\"\"\""
   ]
  },
  {
   "cell_type": "markdown",
   "metadata": {
    "id": "Guak9W8OHfda"
   },
   "source": [
    "## Time-domain Feature Extraction"
   ]
  },
  {
   "cell_type": "code",
   "execution_count": 10,
   "metadata": {
    "executionInfo": {
     "elapsed": 46,
     "status": "ok",
     "timestamp": 1712536977627,
     "user": {
      "displayName": "hello dello",
      "userId": "14773755107488894293"
     },
     "user_tz": -480
    },
    "id": "JVd1uYxZFBje"
   },
   "outputs": [],
   "source": [
    "dimension = df.iloc[:, 0:3].values"
   ]
  },
  {
   "cell_type": "code",
   "execution_count": 11,
   "metadata": {
    "executionInfo": {
     "elapsed": 94372,
     "status": "ok",
     "timestamp": 1712537087019,
     "user": {
      "displayName": "hello dello",
      "userId": "14773755107488894293"
     },
     "user_tz": -480
    },
    "id": "uvQsvomvFhdt"
   },
   "outputs": [],
   "source": [
    "from scipy.stats import kurtosis\n",
    "\n",
    "extracted_features = np.zeros((len(df), 1))\n",
    "\n",
    "for x in range(len(extracted_features)):\n",
    "  extracted_features[x] = kurtosis(dimension[x])"
   ]
  },
  {
   "cell_type": "code",
   "execution_count": 12,
   "metadata": {
    "colab": {
     "base_uri": "https://localhost:8080/",
     "height": 424
    },
    "executionInfo": {
     "elapsed": 39,
     "status": "ok",
     "timestamp": 1712537087023,
     "user": {
      "displayName": "hello dello",
      "userId": "14773755107488894293"
     },
     "user_tz": -480
    },
    "id": "fMl3VpOOxZhQ",
    "outputId": "d96a407d-0928-4b48-ecaa-5ce967471a33"
   },
   "outputs": [
    {
     "data": {
      "text/html": [
       "<div>\n",
       "<style scoped>\n",
       "    .dataframe tbody tr th:only-of-type {\n",
       "        vertical-align: middle;\n",
       "    }\n",
       "\n",
       "    .dataframe tbody tr th {\n",
       "        vertical-align: top;\n",
       "    }\n",
       "\n",
       "    .dataframe thead th {\n",
       "        text-align: right;\n",
       "    }\n",
       "</style>\n",
       "<table border=\"1\" class=\"dataframe\">\n",
       "  <thead>\n",
       "    <tr style=\"text-align: right;\">\n",
       "      <th></th>\n",
       "      <th>kurt</th>\n",
       "    </tr>\n",
       "  </thead>\n",
       "  <tbody>\n",
       "    <tr>\n",
       "      <th>0</th>\n",
       "      <td>-1.5</td>\n",
       "    </tr>\n",
       "    <tr>\n",
       "      <th>1</th>\n",
       "      <td>-1.5</td>\n",
       "    </tr>\n",
       "    <tr>\n",
       "      <th>2</th>\n",
       "      <td>-1.5</td>\n",
       "    </tr>\n",
       "    <tr>\n",
       "      <th>3</th>\n",
       "      <td>-1.5</td>\n",
       "    </tr>\n",
       "    <tr>\n",
       "      <th>4</th>\n",
       "      <td>-1.5</td>\n",
       "    </tr>\n",
       "    <tr>\n",
       "      <th>...</th>\n",
       "      <td>...</td>\n",
       "    </tr>\n",
       "    <tr>\n",
       "      <th>149995</th>\n",
       "      <td>-1.5</td>\n",
       "    </tr>\n",
       "    <tr>\n",
       "      <th>149996</th>\n",
       "      <td>-1.5</td>\n",
       "    </tr>\n",
       "    <tr>\n",
       "      <th>149997</th>\n",
       "      <td>-1.5</td>\n",
       "    </tr>\n",
       "    <tr>\n",
       "      <th>149998</th>\n",
       "      <td>-1.5</td>\n",
       "    </tr>\n",
       "    <tr>\n",
       "      <th>149999</th>\n",
       "      <td>-1.5</td>\n",
       "    </tr>\n",
       "  </tbody>\n",
       "</table>\n",
       "<p>150000 rows × 1 columns</p>\n",
       "</div>"
      ],
      "text/plain": [
       "        kurt\n",
       "0       -1.5\n",
       "1       -1.5\n",
       "2       -1.5\n",
       "3       -1.5\n",
       "4       -1.5\n",
       "...      ...\n",
       "149995  -1.5\n",
       "149996  -1.5\n",
       "149997  -1.5\n",
       "149998  -1.5\n",
       "149999  -1.5\n",
       "\n",
       "[150000 rows x 1 columns]"
      ]
     },
     "execution_count": 12,
     "metadata": {},
     "output_type": "execute_result"
    }
   ],
   "source": [
    "extracted_features = pd.DataFrame(extracted_features)\n",
    "extracted_features = extracted_features.rename(columns = {0:'kurt'})\n",
    "extracted_features"
   ]
  },
  {
   "cell_type": "code",
   "execution_count": 13,
   "metadata": {
    "executionInfo": {
     "elapsed": 19,
     "status": "ok",
     "timestamp": 1712537087024,
     "user": {
      "displayName": "hello dello",
      "userId": "14773755107488894293"
     },
     "user_tz": -480
    },
    "id": "QyQEW7fW2gJQ"
   },
   "outputs": [],
   "source": [
    "# array 'dimension' dikembalikan ke bentuk dataframe\n",
    "dimension = pd.DataFrame(dimension)\n",
    "dimension = dimension.rename(columns = {0:'x', 1:'y', 2:'z'})"
   ]
  },
  {
   "cell_type": "code",
   "execution_count": 14,
   "metadata": {
    "executionInfo": {
     "elapsed": 18,
     "status": "ok",
     "timestamp": 1712537087024,
     "user": {
      "displayName": "hello dello",
      "userId": "14773755107488894293"
     },
     "user_tz": -480
    },
    "id": "_3sDnI8gul7B"
   },
   "outputs": [],
   "source": [
    "extracted_features['mean'] = dimension.mean(axis=1)\n",
    "extracted_features['rms'] = np.sqrt(np.mean(dimension ** 2, axis=1))\n",
    "extracted_features['std'] = dimension.std(axis=1)\n",
    "extracted_features['var'] = dimension.var(axis=1)\n",
    "extracted_features['skew'] = dimension.skew(axis=1)\n",
    "extracted_features['crest_factor'] = dimension.max(axis=1) / extracted_features['rms']\n",
    "extracted_features['shape_factor'] = extracted_features['rms'] / extracted_features['mean']"
   ]
  },
  {
   "cell_type": "code",
   "execution_count": 15,
   "metadata": {
    "colab": {
     "base_uri": "https://localhost:8080/",
     "height": 424
    },
    "executionInfo": {
     "elapsed": 18,
     "status": "ok",
     "timestamp": 1712537087025,
     "user": {
      "displayName": "hello dello",
      "userId": "14773755107488894293"
     },
     "user_tz": -480
    },
    "id": "RMdQcVgAFYK3",
    "outputId": "bfb3b59b-d8a1-4dc8-935c-b045fc2ab928"
   },
   "outputs": [
    {
     "data": {
      "text/html": [
       "<div>\n",
       "<style scoped>\n",
       "    .dataframe tbody tr th:only-of-type {\n",
       "        vertical-align: middle;\n",
       "    }\n",
       "\n",
       "    .dataframe tbody tr th {\n",
       "        vertical-align: top;\n",
       "    }\n",
       "\n",
       "    .dataframe thead th {\n",
       "        text-align: right;\n",
       "    }\n",
       "</style>\n",
       "<table border=\"1\" class=\"dataframe\">\n",
       "  <thead>\n",
       "    <tr style=\"text-align: right;\">\n",
       "      <th></th>\n",
       "      <th>kurt</th>\n",
       "      <th>mean</th>\n",
       "      <th>rms</th>\n",
       "      <th>std</th>\n",
       "      <th>var</th>\n",
       "      <th>skew</th>\n",
       "      <th>crest_factor</th>\n",
       "      <th>shape_factor</th>\n",
       "    </tr>\n",
       "  </thead>\n",
       "  <tbody>\n",
       "    <tr>\n",
       "      <th>0</th>\n",
       "      <td>-1.5</td>\n",
       "      <td>-0.056051</td>\n",
       "      <td>0.081470</td>\n",
       "      <td>0.072412</td>\n",
       "      <td>0.005244</td>\n",
       "      <td>-1.512555</td>\n",
       "      <td>-0.032147</td>\n",
       "      <td>-1.453500</td>\n",
       "    </tr>\n",
       "    <tr>\n",
       "      <th>1</th>\n",
       "      <td>-1.5</td>\n",
       "      <td>-0.044545</td>\n",
       "      <td>0.063024</td>\n",
       "      <td>0.054605</td>\n",
       "      <td>0.002982</td>\n",
       "      <td>-1.478127</td>\n",
       "      <td>-0.057422</td>\n",
       "      <td>-1.414844</td>\n",
       "    </tr>\n",
       "    <tr>\n",
       "      <th>2</th>\n",
       "      <td>-1.5</td>\n",
       "      <td>-0.039068</td>\n",
       "      <td>0.089827</td>\n",
       "      <td>0.099064</td>\n",
       "      <td>0.009814</td>\n",
       "      <td>-1.589799</td>\n",
       "      <td>0.345477</td>\n",
       "      <td>-2.299217</td>\n",
       "    </tr>\n",
       "    <tr>\n",
       "      <th>3</th>\n",
       "      <td>-1.5</td>\n",
       "      <td>-0.023050</td>\n",
       "      <td>0.038988</td>\n",
       "      <td>0.038512</td>\n",
       "      <td>0.001483</td>\n",
       "      <td>-1.696566</td>\n",
       "      <td>0.044501</td>\n",
       "      <td>-1.691458</td>\n",
       "    </tr>\n",
       "    <tr>\n",
       "      <th>4</th>\n",
       "      <td>-1.5</td>\n",
       "      <td>-0.044809</td>\n",
       "      <td>0.072964</td>\n",
       "      <td>0.070525</td>\n",
       "      <td>0.004974</td>\n",
       "      <td>-1.637668</td>\n",
       "      <td>0.047147</td>\n",
       "      <td>-1.628313</td>\n",
       "    </tr>\n",
       "    <tr>\n",
       "      <th>...</th>\n",
       "      <td>...</td>\n",
       "      <td>...</td>\n",
       "      <td>...</td>\n",
       "      <td>...</td>\n",
       "      <td>...</td>\n",
       "      <td>...</td>\n",
       "      <td>...</td>\n",
       "      <td>...</td>\n",
       "    </tr>\n",
       "    <tr>\n",
       "      <th>149995</th>\n",
       "      <td>-1.5</td>\n",
       "      <td>-0.045171</td>\n",
       "      <td>0.052820</td>\n",
       "      <td>0.033529</td>\n",
       "      <td>0.001124</td>\n",
       "      <td>1.324458</td>\n",
       "      <td>-0.142087</td>\n",
       "      <td>-1.169320</td>\n",
       "    </tr>\n",
       "    <tr>\n",
       "      <th>149996</th>\n",
       "      <td>-1.5</td>\n",
       "      <td>-0.053183</td>\n",
       "      <td>0.065891</td>\n",
       "      <td>0.047643</td>\n",
       "      <td>0.002270</td>\n",
       "      <td>1.665660</td>\n",
       "      <td>0.024206</td>\n",
       "      <td>-1.238957</td>\n",
       "    </tr>\n",
       "    <tr>\n",
       "      <th>149997</th>\n",
       "      <td>-1.5</td>\n",
       "      <td>-0.054693</td>\n",
       "      <td>0.068627</td>\n",
       "      <td>0.050770</td>\n",
       "      <td>0.002578</td>\n",
       "      <td>0.799653</td>\n",
       "      <td>0.001413</td>\n",
       "      <td>-1.254769</td>\n",
       "    </tr>\n",
       "    <tr>\n",
       "      <th>149998</th>\n",
       "      <td>-1.5</td>\n",
       "      <td>-0.051926</td>\n",
       "      <td>0.055665</td>\n",
       "      <td>0.024565</td>\n",
       "      <td>0.000603</td>\n",
       "      <td>0.443508</td>\n",
       "      <td>-0.471194</td>\n",
       "      <td>-1.072012</td>\n",
       "    </tr>\n",
       "    <tr>\n",
       "      <th>149999</th>\n",
       "      <td>-1.5</td>\n",
       "      <td>-0.048026</td>\n",
       "      <td>0.050757</td>\n",
       "      <td>0.020114</td>\n",
       "      <td>0.000405</td>\n",
       "      <td>1.729526</td>\n",
       "      <td>-0.488705</td>\n",
       "      <td>-1.056849</td>\n",
       "    </tr>\n",
       "  </tbody>\n",
       "</table>\n",
       "<p>150000 rows × 8 columns</p>\n",
       "</div>"
      ],
      "text/plain": [
       "        kurt      mean       rms       std       var      skew  crest_factor  \\\n",
       "0       -1.5 -0.056051  0.081470  0.072412  0.005244 -1.512555     -0.032147   \n",
       "1       -1.5 -0.044545  0.063024  0.054605  0.002982 -1.478127     -0.057422   \n",
       "2       -1.5 -0.039068  0.089827  0.099064  0.009814 -1.589799      0.345477   \n",
       "3       -1.5 -0.023050  0.038988  0.038512  0.001483 -1.696566      0.044501   \n",
       "4       -1.5 -0.044809  0.072964  0.070525  0.004974 -1.637668      0.047147   \n",
       "...      ...       ...       ...       ...       ...       ...           ...   \n",
       "149995  -1.5 -0.045171  0.052820  0.033529  0.001124  1.324458     -0.142087   \n",
       "149996  -1.5 -0.053183  0.065891  0.047643  0.002270  1.665660      0.024206   \n",
       "149997  -1.5 -0.054693  0.068627  0.050770  0.002578  0.799653      0.001413   \n",
       "149998  -1.5 -0.051926  0.055665  0.024565  0.000603  0.443508     -0.471194   \n",
       "149999  -1.5 -0.048026  0.050757  0.020114  0.000405  1.729526     -0.488705   \n",
       "\n",
       "        shape_factor  \n",
       "0          -1.453500  \n",
       "1          -1.414844  \n",
       "2          -2.299217  \n",
       "3          -1.691458  \n",
       "4          -1.628313  \n",
       "...              ...  \n",
       "149995     -1.169320  \n",
       "149996     -1.238957  \n",
       "149997     -1.254769  \n",
       "149998     -1.072012  \n",
       "149999     -1.056849  \n",
       "\n",
       "[150000 rows x 8 columns]"
      ]
     },
     "execution_count": 15,
     "metadata": {},
     "output_type": "execute_result"
    }
   ],
   "source": [
    "extracted_features"
   ]
  },
  {
   "cell_type": "markdown",
   "metadata": {
    "id": "5mMAwvvEiZk9"
   },
   "source": [
    "## Frequency-domain Feature Extraction"
   ]
  },
  {
   "cell_type": "code",
   "execution_count": 16,
   "metadata": {
    "colab": {
     "base_uri": "https://localhost:8080/",
     "height": 424
    },
    "executionInfo": {
     "elapsed": 563371,
     "status": "ok",
     "timestamp": 1712537650379,
     "user": {
      "displayName": "hello dello",
      "userId": "14773755107488894293"
     },
     "user_tz": -480
    },
    "id": "tnXNC8lFiddR",
    "outputId": "5b757450-1496-47da-f8c2-545693a0d8e5"
   },
   "outputs": [
    {
     "data": {
      "text/html": [
       "<div>\n",
       "<style scoped>\n",
       "    .dataframe tbody tr th:only-of-type {\n",
       "        vertical-align: middle;\n",
       "    }\n",
       "\n",
       "    .dataframe tbody tr th {\n",
       "        vertical-align: top;\n",
       "    }\n",
       "\n",
       "    .dataframe thead th {\n",
       "        text-align: right;\n",
       "    }\n",
       "</style>\n",
       "<table border=\"1\" class=\"dataframe\">\n",
       "  <thead>\n",
       "    <tr style=\"text-align: right;\">\n",
       "      <th></th>\n",
       "      <th>kurt</th>\n",
       "      <th>mean</th>\n",
       "      <th>rms</th>\n",
       "      <th>std</th>\n",
       "      <th>var</th>\n",
       "      <th>skew</th>\n",
       "      <th>crest_factor</th>\n",
       "      <th>shape_factor</th>\n",
       "      <th>fc</th>\n",
       "      <th>rmsf</th>\n",
       "      <th>rvf</th>\n",
       "    </tr>\n",
       "  </thead>\n",
       "  <tbody>\n",
       "    <tr>\n",
       "      <th>0</th>\n",
       "      <td>-1.5</td>\n",
       "      <td>-0.056051</td>\n",
       "      <td>0.081470</td>\n",
       "      <td>0.072412</td>\n",
       "      <td>0.005244</td>\n",
       "      <td>-1.512555</td>\n",
       "      <td>-0.032147</td>\n",
       "      <td>-1.453500</td>\n",
       "      <td>0.128575</td>\n",
       "      <td>0.128632</td>\n",
       "      <td>0.003801</td>\n",
       "    </tr>\n",
       "    <tr>\n",
       "      <th>1</th>\n",
       "      <td>-1.5</td>\n",
       "      <td>-0.044545</td>\n",
       "      <td>0.063024</td>\n",
       "      <td>0.054605</td>\n",
       "      <td>0.002982</td>\n",
       "      <td>-1.478127</td>\n",
       "      <td>-0.057422</td>\n",
       "      <td>-1.414844</td>\n",
       "      <td>0.124448</td>\n",
       "      <td>0.124536</td>\n",
       "      <td>0.004681</td>\n",
       "    </tr>\n",
       "    <tr>\n",
       "      <th>2</th>\n",
       "      <td>-1.5</td>\n",
       "      <td>-0.039068</td>\n",
       "      <td>0.089827</td>\n",
       "      <td>0.099064</td>\n",
       "      <td>0.009814</td>\n",
       "      <td>-1.589799</td>\n",
       "      <td>0.345477</td>\n",
       "      <td>-2.299217</td>\n",
       "      <td>0.189287</td>\n",
       "      <td>0.189646</td>\n",
       "      <td>0.011665</td>\n",
       "    </tr>\n",
       "    <tr>\n",
       "      <th>3</th>\n",
       "      <td>-1.5</td>\n",
       "      <td>-0.023050</td>\n",
       "      <td>0.038988</td>\n",
       "      <td>0.038512</td>\n",
       "      <td>0.001483</td>\n",
       "      <td>-1.696566</td>\n",
       "      <td>0.044501</td>\n",
       "      <td>-1.691458</td>\n",
       "      <td>0.151102</td>\n",
       "      <td>0.151219</td>\n",
       "      <td>0.005947</td>\n",
       "    </tr>\n",
       "    <tr>\n",
       "      <th>4</th>\n",
       "      <td>-1.5</td>\n",
       "      <td>-0.044809</td>\n",
       "      <td>0.072964</td>\n",
       "      <td>0.070525</td>\n",
       "      <td>0.004974</td>\n",
       "      <td>-1.637668</td>\n",
       "      <td>0.047147</td>\n",
       "      <td>-1.628313</td>\n",
       "      <td>0.162417</td>\n",
       "      <td>0.163870</td>\n",
       "      <td>0.021775</td>\n",
       "    </tr>\n",
       "    <tr>\n",
       "      <th>...</th>\n",
       "      <td>...</td>\n",
       "      <td>...</td>\n",
       "      <td>...</td>\n",
       "      <td>...</td>\n",
       "      <td>...</td>\n",
       "      <td>...</td>\n",
       "      <td>...</td>\n",
       "      <td>...</td>\n",
       "      <td>...</td>\n",
       "      <td>...</td>\n",
       "      <td>...</td>\n",
       "    </tr>\n",
       "    <tr>\n",
       "      <th>149995</th>\n",
       "      <td>-1.5</td>\n",
       "      <td>-0.045171</td>\n",
       "      <td>0.052820</td>\n",
       "      <td>0.033529</td>\n",
       "      <td>0.001124</td>\n",
       "      <td>1.324458</td>\n",
       "      <td>-0.142087</td>\n",
       "      <td>-1.169320</td>\n",
       "      <td>0.011996</td>\n",
       "      <td>0.114992</td>\n",
       "      <td>0.114365</td>\n",
       "    </tr>\n",
       "    <tr>\n",
       "      <th>149996</th>\n",
       "      <td>-1.5</td>\n",
       "      <td>-0.053183</td>\n",
       "      <td>0.065891</td>\n",
       "      <td>0.047643</td>\n",
       "      <td>0.002270</td>\n",
       "      <td>1.665660</td>\n",
       "      <td>0.024206</td>\n",
       "      <td>-1.238957</td>\n",
       "      <td>0.010835</td>\n",
       "      <td>0.121352</td>\n",
       "      <td>0.120867</td>\n",
       "    </tr>\n",
       "    <tr>\n",
       "      <th>149997</th>\n",
       "      <td>-1.5</td>\n",
       "      <td>-0.054693</td>\n",
       "      <td>0.068627</td>\n",
       "      <td>0.050770</td>\n",
       "      <td>0.002578</td>\n",
       "      <td>0.799653</td>\n",
       "      <td>0.001413</td>\n",
       "      <td>-1.254769</td>\n",
       "      <td>0.040850</td>\n",
       "      <td>0.142664</td>\n",
       "      <td>0.136691</td>\n",
       "    </tr>\n",
       "    <tr>\n",
       "      <th>149998</th>\n",
       "      <td>-1.5</td>\n",
       "      <td>-0.051926</td>\n",
       "      <td>0.055665</td>\n",
       "      <td>0.024565</td>\n",
       "      <td>0.000603</td>\n",
       "      <td>0.443508</td>\n",
       "      <td>-0.471194</td>\n",
       "      <td>-1.072012</td>\n",
       "      <td>0.004799</td>\n",
       "      <td>0.087797</td>\n",
       "      <td>0.087666</td>\n",
       "    </tr>\n",
       "    <tr>\n",
       "      <th>149999</th>\n",
       "      <td>-1.5</td>\n",
       "      <td>-0.048026</td>\n",
       "      <td>0.050757</td>\n",
       "      <td>0.020114</td>\n",
       "      <td>0.000405</td>\n",
       "      <td>1.729526</td>\n",
       "      <td>-0.488705</td>\n",
       "      <td>-1.056849</td>\n",
       "      <td>0.042970</td>\n",
       "      <td>0.062417</td>\n",
       "      <td>0.045271</td>\n",
       "    </tr>\n",
       "  </tbody>\n",
       "</table>\n",
       "<p>150000 rows × 11 columns</p>\n",
       "</div>"
      ],
      "text/plain": [
       "        kurt      mean       rms       std       var      skew  crest_factor  \\\n",
       "0       -1.5 -0.056051  0.081470  0.072412  0.005244 -1.512555     -0.032147   \n",
       "1       -1.5 -0.044545  0.063024  0.054605  0.002982 -1.478127     -0.057422   \n",
       "2       -1.5 -0.039068  0.089827  0.099064  0.009814 -1.589799      0.345477   \n",
       "3       -1.5 -0.023050  0.038988  0.038512  0.001483 -1.696566      0.044501   \n",
       "4       -1.5 -0.044809  0.072964  0.070525  0.004974 -1.637668      0.047147   \n",
       "...      ...       ...       ...       ...       ...       ...           ...   \n",
       "149995  -1.5 -0.045171  0.052820  0.033529  0.001124  1.324458     -0.142087   \n",
       "149996  -1.5 -0.053183  0.065891  0.047643  0.002270  1.665660      0.024206   \n",
       "149997  -1.5 -0.054693  0.068627  0.050770  0.002578  0.799653      0.001413   \n",
       "149998  -1.5 -0.051926  0.055665  0.024565  0.000603  0.443508     -0.471194   \n",
       "149999  -1.5 -0.048026  0.050757  0.020114  0.000405  1.729526     -0.488705   \n",
       "\n",
       "        shape_factor        fc      rmsf       rvf  \n",
       "0          -1.453500  0.128575  0.128632  0.003801  \n",
       "1          -1.414844  0.124448  0.124536  0.004681  \n",
       "2          -2.299217  0.189287  0.189646  0.011665  \n",
       "3          -1.691458  0.151102  0.151219  0.005947  \n",
       "4          -1.628313  0.162417  0.163870  0.021775  \n",
       "...              ...       ...       ...       ...  \n",
       "149995     -1.169320  0.011996  0.114992  0.114365  \n",
       "149996     -1.238957  0.010835  0.121352  0.120867  \n",
       "149997     -1.254769  0.040850  0.142664  0.136691  \n",
       "149998     -1.072012  0.004799  0.087797  0.087666  \n",
       "149999     -1.056849  0.042970  0.062417  0.045271  \n",
       "\n",
       "[150000 rows x 11 columns]"
      ]
     },
     "execution_count": 16,
     "metadata": {},
     "output_type": "execute_result"
    }
   ],
   "source": [
    "def frequency_centre(signal):\n",
    "    return ((signal.diff()*signal).sum()) / (2 * np.pi * np.sum(signal**2))\n",
    "\n",
    "def mean_square_frequency(signal):\n",
    "    return  np.sum(signal.diff()**2) / (4 * np.pi**2 * np.sum(signal**2))\n",
    "\n",
    "def root_mean_square_frequency(signal):\n",
    "    return  np.sqrt(mean_square_frequency(signal))\n",
    "\n",
    "def root_variance_frequency(signal):\n",
    "    return  np.sqrt(mean_square_frequency(signal) - frequency_centre(signal)**2)\n",
    "\n",
    "# calculate FC, RMSF, and RVF\n",
    "extracted_features['fc'] = dimension.apply(lambda row: frequency_centre(row[['x', 'y', 'z']]), axis=1)\n",
    "extracted_features['rmsf'] = dimension.apply(lambda row: root_mean_square_frequency(row[['x', 'y', 'z']]), axis=1)\n",
    "extracted_features['rvf'] = dimension.apply(lambda row: root_variance_frequency(row[['x', 'y', 'z']]), axis=1)\n",
    "\n",
    "extracted_features"
   ]
  },
  {
   "cell_type": "markdown",
   "metadata": {
    "id": "6BOYZRqvUm4O"
   },
   "source": [
    "# Train-Test-Split"
   ]
  },
  {
   "cell_type": "code",
   "execution_count": 17,
   "metadata": {
    "executionInfo": {
     "elapsed": 26,
     "status": "ok",
     "timestamp": 1712537650380,
     "user": {
      "displayName": "hello dello",
      "userId": "14773755107488894293"
     },
     "user_tz": -480
    },
    "id": "UmtiV1xtXLui"
   },
   "outputs": [],
   "source": [
    "from sklearn.model_selection import train_test_split\n",
    "\n",
    "X = extracted_features\n",
    "y = df.iloc[:, [3]].values"
   ]
  },
  {
   "cell_type": "code",
   "execution_count": 18,
   "metadata": {
    "colab": {
     "base_uri": "https://localhost:8080/",
     "height": 424
    },
    "executionInfo": {
     "elapsed": 618,
     "status": "ok",
     "timestamp": 1712537650976,
     "user": {
      "displayName": "hello dello",
      "userId": "14773755107488894293"
     },
     "user_tz": -480
    },
    "id": "TWwwguPlvoJF",
    "outputId": "2bcd2067-03e7-4e13-db2b-c06ee058191a"
   },
   "outputs": [
    {
     "data": {
      "text/plain": [
       "array([['Layer1'],\n",
       "       ['Layer1'],\n",
       "       ['Layer1'],\n",
       "       ...,\n",
       "       ['Layer3'],\n",
       "       ['Layer3'],\n",
       "       ['Layer3']], dtype=object)"
      ]
     },
     "execution_count": 18,
     "metadata": {},
     "output_type": "execute_result"
    }
   ],
   "source": [
    "y"
   ]
  },
  {
   "cell_type": "code",
   "execution_count": 19,
   "metadata": {
    "executionInfo": {
     "elapsed": 15,
     "status": "ok",
     "timestamp": 1712537650977,
     "user": {
      "displayName": "hello dello",
      "userId": "14773755107488894293"
     },
     "user_tz": -480
    },
    "id": "KwNL8DHD5rKC"
   },
   "outputs": [],
   "source": [
    "X_train, X_test, y_train, y_test = train_test_split(X, y, test_size = 0.2, random_state = 137)"
   ]
  },
  {
   "cell_type": "markdown",
   "metadata": {
    "id": "NQI-ySchhoSq"
   },
   "source": [
    "# Model Development"
   ]
  },
  {
   "cell_type": "markdown",
   "metadata": {
    "id": "WltXd8T0ijqF"
   },
   "source": [
    "## GridSearchCV"
   ]
  },
  {
   "cell_type": "code",
   "execution_count": null,
   "metadata": {
    "colab": {
     "base_uri": "https://localhost:8080/"
    },
    "executionInfo": {
     "elapsed": 12004,
     "status": "ok",
     "timestamp": 1712543818644,
     "user": {
      "displayName": "hello dello",
      "userId": "14773755107488894293"
     },
     "user_tz": -480
    },
    "id": "cWRgOBIZhqYQ",
    "outputId": "54d920bc-501d-470e-eecf-260580d82498"
   },
   "outputs": [],
   "source": [
    "from sklearn.ensemble import RandomForestClassifier\n",
    "from sklearn.feature_selection import RFE\n",
    "from sklearn.model_selection import GridSearchCV\n",
    "\n",
    "RF = RandomForestClassifier(random_state=1)\n",
    "\n",
    "grid = GridSearchCV(RFE(estimator=RF, step=1), {\n",
    "    'n_features_to_select': range(1, 12)\n",
    "}, cv=10, n_jobs=-1)\n",
    "grid.fit(X_train, y_train.ravel())\n",
    "\n",
    "print('Best params: ', grid.best_params_)\n",
    "print('Best accuracy: ', grid.best_score_)"
   ]
  },
  {
   "cell_type": "code",
   "execution_count": null,
   "metadata": {
    "executionInfo": {
     "elapsed": 17,
     "status": "aborted",
     "timestamp": 1712537658501,
     "user": {
      "displayName": "hello dello",
      "userId": "14773755107488894293"
     },
     "user_tz": -480
    },
    "id": "xBOaO1P1_vlV"
   },
   "outputs": [],
   "source": [
    "grid.best_estimator_.score(X_test, y_test)"
   ]
  }
 ],
 "metadata": {
  "colab": {
   "authorship_tag": "ABX9TyMjUtbzpCtX7QbdK6eP9fsG",
   "collapsed_sections": [
    "oE6efsd9aMPG"
   ],
   "mount_file_id": "1s2RSgmOGAeLpFvKJHtJAcX0qN7SWRIiZ",
   "provenance": [
    {
     "file_id": "1_xJoRvjNQJby2rtoQcNqp_sbCdfHsswM",
     "timestamp": 1712397545575
    },
    {
     "file_id": "1Zt40acLKjXOZNl3vJlmjkzQb1srmVuK3",
     "timestamp": 1712383847409
    },
    {
     "file_id": "1K2A0nADZjyk6jS3tEOWKnoQJZuheS2sP",
     "timestamp": 1712325270215
    },
    {
     "file_id": "1JrkG_mZ6wBIwBKJNJ5T5K4zgIWYR8Sgu",
     "timestamp": 1712135390903
    }
   ]
  },
  "kernelspec": {
   "display_name": "Python 3 (ipykernel)",
   "language": "python",
   "name": "python3"
  },
  "language_info": {
   "codemirror_mode": {
    "name": "ipython",
    "version": 3
   },
   "file_extension": ".py",
   "mimetype": "text/x-python",
   "name": "python",
   "nbconvert_exporter": "python",
   "pygments_lexer": "ipython3",
   "version": "3.10.0"
  }
 },
 "nbformat": 4,
 "nbformat_minor": 4
}
