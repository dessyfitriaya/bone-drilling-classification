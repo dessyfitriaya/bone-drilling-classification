{
 "cells": [
  {
   "cell_type": "markdown",
   "metadata": {
    "id": "qHdiqGtLZs-N"
   },
   "source": [
    "# Library"
   ]
  },
  {
   "cell_type": "code",
   "execution_count": 1,
   "metadata": {
    "executionInfo": {
     "elapsed": 1877,
     "status": "ok",
     "timestamp": 1712450163951,
     "user": {
      "displayName": "hello dello",
      "userId": "14773755107488894293"
     },
     "user_tz": -480
    },
    "id": "lnO7tiioY-_q"
   },
   "outputs": [],
   "source": [
    "import pandas as pd\n",
    "import seaborn as sns\n",
    "import matplotlib.pyplot as plt\n",
    "import numpy as np"
   ]
  },
  {
   "cell_type": "markdown",
   "metadata": {
    "id": "oE6efsd9aMPG",
    "jp-MarkdownHeadingCollapsed": true
   },
   "source": [
    "# Gathering Data"
   ]
  },
  {
   "cell_type": "markdown",
   "metadata": {
    "id": "fJX_8dmt24Jb"
   },
   "source": [
    "Layer 1"
   ]
  },
  {
   "cell_type": "code",
   "execution_count": 2,
   "metadata": {
    "colab": {
     "base_uri": "https://localhost:8080/",
     "height": 424
    },
    "executionInfo": {
     "elapsed": 7193,
     "status": "ok",
     "timestamp": 1712450197491,
     "user": {
      "displayName": "hello dello",
      "userId": "14773755107488894293"
     },
     "user_tz": -480
    },
    "id": "mKc1jhUAZyrI",
    "outputId": "fc25acae-271f-427d-b194-5b1deef740e0"
   },
   "outputs": [],
   "source": [
    "layer1 = pd.read_excel('hole6-layer1.xlsx')"
   ]
  },
  {
   "cell_type": "markdown",
   "metadata": {
    "id": "fcOfgWuF3E-Q"
   },
   "source": [
    "Layer 2"
   ]
  },
  {
   "cell_type": "code",
   "execution_count": 3,
   "metadata": {
    "executionInfo": {
     "elapsed": 5110,
     "status": "ok",
     "timestamp": 1712450227228,
     "user": {
      "displayName": "hello dello",
      "userId": "14773755107488894293"
     },
     "user_tz": -480
    },
    "id": "vyjCI9kgiWN4"
   },
   "outputs": [],
   "source": [
    "layer2 = pd.read_excel('hole6-layer2.xlsx')"
   ]
  },
  {
   "cell_type": "markdown",
   "metadata": {
    "id": "jEy5ydqn3I8L"
   },
   "source": [
    "Layer 3"
   ]
  },
  {
   "cell_type": "code",
   "execution_count": 4,
   "metadata": {
    "executionInfo": {
     "elapsed": 5058,
     "status": "ok",
     "timestamp": 1712450238164,
     "user": {
      "displayName": "hello dello",
      "userId": "14773755107488894293"
     },
     "user_tz": -480
    },
    "id": "5GUzVde73ITZ"
   },
   "outputs": [],
   "source": [
    "layer3 = pd.read_excel('hole6-layer3.xlsx')"
   ]
  },
  {
   "cell_type": "markdown",
   "metadata": {
    "id": "Q1n4-Fibiz2f",
    "jp-MarkdownHeadingCollapsed": true
   },
   "source": [
    "# Cleaning Data"
   ]
  },
  {
   "cell_type": "markdown",
   "metadata": {
    "id": "Kj5WJuQynjft"
   },
   "source": [
    "**Missing Value**"
   ]
  },
  {
   "cell_type": "code",
   "execution_count": 5,
   "metadata": {
    "executionInfo": {
     "elapsed": 611,
     "status": "ok",
     "timestamp": 1712450249068,
     "user": {
      "displayName": "hello dello",
      "userId": "14773755107488894293"
     },
     "user_tz": -480
    },
    "id": "uSwxoT42BE3g"
   },
   "outputs": [],
   "source": [
    "def check_nan_null(dataframe):\n",
    "  if dataframe.isnull().values.any() == True:\n",
    "      print(\"DataFrame contains NaN or null values.\")\n",
    "  else:\n",
    "      print(\"DataFrame does not contain any NaN or null values.\")"
   ]
  },
  {
   "cell_type": "code",
   "execution_count": 6,
   "metadata": {
    "colab": {
     "base_uri": "https://localhost:8080/"
    },
    "executionInfo": {
     "elapsed": 666,
     "status": "ok",
     "timestamp": 1712450289218,
     "user": {
      "displayName": "hello dello",
      "userId": "14773755107488894293"
     },
     "user_tz": -480
    },
    "id": "5dIU5T8EBj_s",
    "outputId": "e33c4eb4-3d99-4411-e49a-5e8d1934c8a9"
   },
   "outputs": [
    {
     "name": "stdout",
     "output_type": "stream",
     "text": [
      "DataFrame does not contain any NaN or null values.\n",
      "DataFrame does not contain any NaN or null values.\n",
      "DataFrame does not contain any NaN or null values.\n"
     ]
    }
   ],
   "source": [
    "check_nan_null(layer1)\n",
    "check_nan_null(layer2)\n",
    "check_nan_null(layer3)"
   ]
  },
  {
   "cell_type": "markdown",
   "metadata": {
    "id": "AYuCyxteCPwa"
   },
   "source": [
    "**Add new column**"
   ]
  },
  {
   "cell_type": "code",
   "execution_count": 7,
   "metadata": {
    "colab": {
     "base_uri": "https://localhost:8080/",
     "height": 424
    },
    "executionInfo": {
     "elapsed": 484,
     "status": "ok",
     "timestamp": 1712450306961,
     "user": {
      "displayName": "hello dello",
      "userId": "14773755107488894293"
     },
     "user_tz": -480
    },
    "id": "9VKEbKw-CRUb",
    "outputId": "3e1f292e-d54c-401c-d36e-18ef19cbcbe6"
   },
   "outputs": [
    {
     "data": {
      "text/html": [
       "<div>\n",
       "<style scoped>\n",
       "    .dataframe tbody tr th:only-of-type {\n",
       "        vertical-align: middle;\n",
       "    }\n",
       "\n",
       "    .dataframe tbody tr th {\n",
       "        vertical-align: top;\n",
       "    }\n",
       "\n",
       "    .dataframe thead th {\n",
       "        text-align: right;\n",
       "    }\n",
       "</style>\n",
       "<table border=\"1\" class=\"dataframe\">\n",
       "  <thead>\n",
       "    <tr style=\"text-align: right;\">\n",
       "      <th></th>\n",
       "      <th>X</th>\n",
       "      <th>Y</th>\n",
       "      <th>Z</th>\n",
       "      <th>layer</th>\n",
       "    </tr>\n",
       "  </thead>\n",
       "  <tbody>\n",
       "    <tr>\n",
       "      <th>0</th>\n",
       "      <td>-4.092122</td>\n",
       "      <td>-0.604519</td>\n",
       "      <td>0.231390</td>\n",
       "      <td>Layer1</td>\n",
       "    </tr>\n",
       "    <tr>\n",
       "      <th>1</th>\n",
       "      <td>1.238322</td>\n",
       "      <td>-0.818233</td>\n",
       "      <td>1.499981</td>\n",
       "      <td>Layer1</td>\n",
       "    </tr>\n",
       "    <tr>\n",
       "      <th>2</th>\n",
       "      <td>-2.619706</td>\n",
       "      <td>2.349278</td>\n",
       "      <td>-1.789471</td>\n",
       "      <td>Layer1</td>\n",
       "    </tr>\n",
       "    <tr>\n",
       "      <th>3</th>\n",
       "      <td>5.634630</td>\n",
       "      <td>-0.294944</td>\n",
       "      <td>6.465341</td>\n",
       "      <td>Layer1</td>\n",
       "    </tr>\n",
       "    <tr>\n",
       "      <th>4</th>\n",
       "      <td>-1.917923</td>\n",
       "      <td>-0.900646</td>\n",
       "      <td>-0.942375</td>\n",
       "      <td>Layer1</td>\n",
       "    </tr>\n",
       "    <tr>\n",
       "      <th>...</th>\n",
       "      <td>...</td>\n",
       "      <td>...</td>\n",
       "      <td>...</td>\n",
       "      <td>...</td>\n",
       "    </tr>\n",
       "    <tr>\n",
       "      <th>49995</th>\n",
       "      <td>-0.561061</td>\n",
       "      <td>-1.519601</td>\n",
       "      <td>3.368515</td>\n",
       "      <td>Layer1</td>\n",
       "    </tr>\n",
       "    <tr>\n",
       "      <th>49996</th>\n",
       "      <td>0.424254</td>\n",
       "      <td>-0.044728</td>\n",
       "      <td>1.610597</td>\n",
       "      <td>Layer1</td>\n",
       "    </tr>\n",
       "    <tr>\n",
       "      <th>49997</th>\n",
       "      <td>-0.640672</td>\n",
       "      <td>-0.887954</td>\n",
       "      <td>0.131873</td>\n",
       "      <td>Layer1</td>\n",
       "    </tr>\n",
       "    <tr>\n",
       "      <th>49998</th>\n",
       "      <td>-0.053822</td>\n",
       "      <td>-0.752650</td>\n",
       "      <td>0.600952</td>\n",
       "      <td>Layer1</td>\n",
       "    </tr>\n",
       "    <tr>\n",
       "      <th>49999</th>\n",
       "      <td>0.453234</td>\n",
       "      <td>0.355546</td>\n",
       "      <td>2.000248</td>\n",
       "      <td>Layer1</td>\n",
       "    </tr>\n",
       "  </tbody>\n",
       "</table>\n",
       "<p>50000 rows × 4 columns</p>\n",
       "</div>"
      ],
      "text/plain": [
       "              X         Y         Z   layer\n",
       "0     -4.092122 -0.604519  0.231390  Layer1\n",
       "1      1.238322 -0.818233  1.499981  Layer1\n",
       "2     -2.619706  2.349278 -1.789471  Layer1\n",
       "3      5.634630 -0.294944  6.465341  Layer1\n",
       "4     -1.917923 -0.900646 -0.942375  Layer1\n",
       "...         ...       ...       ...     ...\n",
       "49995 -0.561061 -1.519601  3.368515  Layer1\n",
       "49996  0.424254 -0.044728  1.610597  Layer1\n",
       "49997 -0.640672 -0.887954  0.131873  Layer1\n",
       "49998 -0.053822 -0.752650  0.600952  Layer1\n",
       "49999  0.453234  0.355546  2.000248  Layer1\n",
       "\n",
       "[50000 rows x 4 columns]"
      ]
     },
     "execution_count": 7,
     "metadata": {},
     "output_type": "execute_result"
    }
   ],
   "source": [
    "layer1['layer'] = \"Layer1\"\n",
    "layer2['layer'] = \"Layer2\"\n",
    "layer3['layer'] = \"Layer3\"\n",
    "\n",
    "layer1"
   ]
  },
  {
   "cell_type": "markdown",
   "metadata": {
    "id": "Wsj2S2aGDPhI"
   },
   "source": [
    "**Merge all dataframes**"
   ]
  },
  {
   "cell_type": "code",
   "execution_count": 8,
   "metadata": {
    "colab": {
     "base_uri": "https://localhost:8080/",
     "height": 424
    },
    "executionInfo": {
     "elapsed": 628,
     "status": "ok",
     "timestamp": 1712450321793,
     "user": {
      "displayName": "hello dello",
      "userId": "14773755107488894293"
     },
     "user_tz": -480
    },
    "id": "nZ7DLKZmDO38",
    "outputId": "4d5fdb4a-64b0-48a5-df44-90ad5128a961"
   },
   "outputs": [
    {
     "data": {
      "text/html": [
       "<div>\n",
       "<style scoped>\n",
       "    .dataframe tbody tr th:only-of-type {\n",
       "        vertical-align: middle;\n",
       "    }\n",
       "\n",
       "    .dataframe tbody tr th {\n",
       "        vertical-align: top;\n",
       "    }\n",
       "\n",
       "    .dataframe thead th {\n",
       "        text-align: right;\n",
       "    }\n",
       "</style>\n",
       "<table border=\"1\" class=\"dataframe\">\n",
       "  <thead>\n",
       "    <tr style=\"text-align: right;\">\n",
       "      <th></th>\n",
       "      <th>X</th>\n",
       "      <th>Y</th>\n",
       "      <th>Z</th>\n",
       "      <th>layer</th>\n",
       "    </tr>\n",
       "  </thead>\n",
       "  <tbody>\n",
       "    <tr>\n",
       "      <th>0</th>\n",
       "      <td>-4.092122</td>\n",
       "      <td>-0.604519</td>\n",
       "      <td>0.231390</td>\n",
       "      <td>Layer1</td>\n",
       "    </tr>\n",
       "    <tr>\n",
       "      <th>1</th>\n",
       "      <td>1.238322</td>\n",
       "      <td>-0.818233</td>\n",
       "      <td>1.499981</td>\n",
       "      <td>Layer1</td>\n",
       "    </tr>\n",
       "    <tr>\n",
       "      <th>2</th>\n",
       "      <td>-2.619706</td>\n",
       "      <td>2.349278</td>\n",
       "      <td>-1.789471</td>\n",
       "      <td>Layer1</td>\n",
       "    </tr>\n",
       "    <tr>\n",
       "      <th>3</th>\n",
       "      <td>5.634630</td>\n",
       "      <td>-0.294944</td>\n",
       "      <td>6.465341</td>\n",
       "      <td>Layer1</td>\n",
       "    </tr>\n",
       "    <tr>\n",
       "      <th>4</th>\n",
       "      <td>-1.917923</td>\n",
       "      <td>-0.900646</td>\n",
       "      <td>-0.942375</td>\n",
       "      <td>Layer1</td>\n",
       "    </tr>\n",
       "    <tr>\n",
       "      <th>...</th>\n",
       "      <td>...</td>\n",
       "      <td>...</td>\n",
       "      <td>...</td>\n",
       "      <td>...</td>\n",
       "    </tr>\n",
       "    <tr>\n",
       "      <th>149995</th>\n",
       "      <td>-0.166121</td>\n",
       "      <td>-0.236463</td>\n",
       "      <td>-0.656018</td>\n",
       "      <td>Layer3</td>\n",
       "    </tr>\n",
       "    <tr>\n",
       "      <th>149996</th>\n",
       "      <td>-0.164059</td>\n",
       "      <td>-0.218963</td>\n",
       "      <td>-0.660147</td>\n",
       "      <td>Layer3</td>\n",
       "    </tr>\n",
       "    <tr>\n",
       "      <th>149997</th>\n",
       "      <td>-0.142092</td>\n",
       "      <td>-0.183254</td>\n",
       "      <td>-0.683355</td>\n",
       "      <td>Layer3</td>\n",
       "    </tr>\n",
       "    <tr>\n",
       "      <th>149998</th>\n",
       "      <td>-0.092292</td>\n",
       "      <td>-0.138173</td>\n",
       "      <td>-0.704150</td>\n",
       "      <td>Layer3</td>\n",
       "    </tr>\n",
       "    <tr>\n",
       "      <th>149999</th>\n",
       "      <td>-0.030636</td>\n",
       "      <td>-0.081511</td>\n",
       "      <td>-0.733546</td>\n",
       "      <td>Layer3</td>\n",
       "    </tr>\n",
       "  </tbody>\n",
       "</table>\n",
       "<p>150000 rows × 4 columns</p>\n",
       "</div>"
      ],
      "text/plain": [
       "               X         Y         Z   layer\n",
       "0      -4.092122 -0.604519  0.231390  Layer1\n",
       "1       1.238322 -0.818233  1.499981  Layer1\n",
       "2      -2.619706  2.349278 -1.789471  Layer1\n",
       "3       5.634630 -0.294944  6.465341  Layer1\n",
       "4      -1.917923 -0.900646 -0.942375  Layer1\n",
       "...          ...       ...       ...     ...\n",
       "149995 -0.166121 -0.236463 -0.656018  Layer3\n",
       "149996 -0.164059 -0.218963 -0.660147  Layer3\n",
       "149997 -0.142092 -0.183254 -0.683355  Layer3\n",
       "149998 -0.092292 -0.138173 -0.704150  Layer3\n",
       "149999 -0.030636 -0.081511 -0.733546  Layer3\n",
       "\n",
       "[150000 rows x 4 columns]"
      ]
     },
     "execution_count": 8,
     "metadata": {},
     "output_type": "execute_result"
    }
   ],
   "source": [
    "df = pd.concat([layer1, layer2, layer3], ignore_index=True)\n",
    "df"
   ]
  },
  {
   "cell_type": "markdown",
   "metadata": {
    "id": "-YCwMLvCvGqX"
   },
   "source": [
    "# Feature Engineering"
   ]
  },
  {
   "cell_type": "markdown",
   "metadata": {
    "id": "M8FAfOfsggzX",
    "jp-MarkdownHeadingCollapsed": true
   },
   "source": [
    "## One-Hot Encoding"
   ]
  },
  {
   "cell_type": "code",
   "execution_count": 9,
   "metadata": {
    "colab": {
     "base_uri": "https://localhost:8080/",
     "height": 53
    },
    "executionInfo": {
     "elapsed": 31,
     "status": "ok",
     "timestamp": 1712447635492,
     "user": {
      "displayName": "hello dello",
      "userId": "14773755107488894293"
     },
     "user_tz": -480
    },
    "id": "jCCTNo4ggi-0",
    "outputId": "bce937fd-58a3-4de7-e184-de0c688bbb26"
   },
   "outputs": [
    {
     "data": {
      "text/plain": [
       "\"\\nfrom sklearn.preprocessing import OneHotEncoder\\n\\ndf = pd.concat([df, pd.get_dummies(df['layer'], prefix='layer')], axis=1)\\ndf.drop(['layer'], axis=1, inplace=True)\\ndf.head()\\n\""
      ]
     },
     "execution_count": 9,
     "metadata": {},
     "output_type": "execute_result"
    }
   ],
   "source": [
    "\"\"\"\n",
    "from sklearn.preprocessing import OneHotEncoder\n",
    "\n",
    "df = pd.concat([df, pd.get_dummies(df['layer'], prefix='layer')], axis=1)\n",
    "df.drop(['layer'], axis=1, inplace=True)\n",
    "df.head()\n",
    "\"\"\""
   ]
  },
  {
   "cell_type": "markdown",
   "metadata": {
    "id": "Guak9W8OHfda",
    "jp-MarkdownHeadingCollapsed": true
   },
   "source": [
    "## Time-domain Feature Extraction"
   ]
  },
  {
   "cell_type": "code",
   "execution_count": 10,
   "metadata": {
    "executionInfo": {
     "elapsed": 623,
     "status": "ok",
     "timestamp": 1712450342882,
     "user": {
      "displayName": "hello dello",
      "userId": "14773755107488894293"
     },
     "user_tz": -480
    },
    "id": "JVd1uYxZFBje"
   },
   "outputs": [],
   "source": [
    "dimension = df.iloc[:, 0:3].values"
   ]
  },
  {
   "cell_type": "code",
   "execution_count": 11,
   "metadata": {
    "executionInfo": {
     "elapsed": 101721,
     "status": "ok",
     "timestamp": 1712450449242,
     "user": {
      "displayName": "hello dello",
      "userId": "14773755107488894293"
     },
     "user_tz": -480
    },
    "id": "uvQsvomvFhdt"
   },
   "outputs": [],
   "source": [
    "from scipy.stats import kurtosis\n",
    "\n",
    "extracted_features = np.zeros((len(df), 1))\n",
    "\n",
    "for x in range(len(extracted_features)):\n",
    "  extracted_features[x] = kurtosis(dimension[x])"
   ]
  },
  {
   "cell_type": "code",
   "execution_count": 12,
   "metadata": {
    "colab": {
     "base_uri": "https://localhost:8080/",
     "height": 424
    },
    "executionInfo": {
     "elapsed": 13,
     "status": "ok",
     "timestamp": 1712450531193,
     "user": {
      "displayName": "hello dello",
      "userId": "14773755107488894293"
     },
     "user_tz": -480
    },
    "id": "fMl3VpOOxZhQ",
    "outputId": "e3fff926-c5f9-40bf-d7d3-30b5540f2738"
   },
   "outputs": [
    {
     "data": {
      "text/html": [
       "<div>\n",
       "<style scoped>\n",
       "    .dataframe tbody tr th:only-of-type {\n",
       "        vertical-align: middle;\n",
       "    }\n",
       "\n",
       "    .dataframe tbody tr th {\n",
       "        vertical-align: top;\n",
       "    }\n",
       "\n",
       "    .dataframe thead th {\n",
       "        text-align: right;\n",
       "    }\n",
       "</style>\n",
       "<table border=\"1\" class=\"dataframe\">\n",
       "  <thead>\n",
       "    <tr style=\"text-align: right;\">\n",
       "      <th></th>\n",
       "      <th>kurt</th>\n",
       "    </tr>\n",
       "  </thead>\n",
       "  <tbody>\n",
       "    <tr>\n",
       "      <th>0</th>\n",
       "      <td>-1.5</td>\n",
       "    </tr>\n",
       "    <tr>\n",
       "      <th>1</th>\n",
       "      <td>-1.5</td>\n",
       "    </tr>\n",
       "    <tr>\n",
       "      <th>2</th>\n",
       "      <td>-1.5</td>\n",
       "    </tr>\n",
       "    <tr>\n",
       "      <th>3</th>\n",
       "      <td>-1.5</td>\n",
       "    </tr>\n",
       "    <tr>\n",
       "      <th>4</th>\n",
       "      <td>-1.5</td>\n",
       "    </tr>\n",
       "    <tr>\n",
       "      <th>...</th>\n",
       "      <td>...</td>\n",
       "    </tr>\n",
       "    <tr>\n",
       "      <th>149995</th>\n",
       "      <td>-1.5</td>\n",
       "    </tr>\n",
       "    <tr>\n",
       "      <th>149996</th>\n",
       "      <td>-1.5</td>\n",
       "    </tr>\n",
       "    <tr>\n",
       "      <th>149997</th>\n",
       "      <td>-1.5</td>\n",
       "    </tr>\n",
       "    <tr>\n",
       "      <th>149998</th>\n",
       "      <td>-1.5</td>\n",
       "    </tr>\n",
       "    <tr>\n",
       "      <th>149999</th>\n",
       "      <td>-1.5</td>\n",
       "    </tr>\n",
       "  </tbody>\n",
       "</table>\n",
       "<p>150000 rows × 1 columns</p>\n",
       "</div>"
      ],
      "text/plain": [
       "        kurt\n",
       "0       -1.5\n",
       "1       -1.5\n",
       "2       -1.5\n",
       "3       -1.5\n",
       "4       -1.5\n",
       "...      ...\n",
       "149995  -1.5\n",
       "149996  -1.5\n",
       "149997  -1.5\n",
       "149998  -1.5\n",
       "149999  -1.5\n",
       "\n",
       "[150000 rows x 1 columns]"
      ]
     },
     "execution_count": 12,
     "metadata": {},
     "output_type": "execute_result"
    }
   ],
   "source": [
    "extracted_features = pd.DataFrame(extracted_features)\n",
    "extracted_features = extracted_features.rename(columns = {0:'kurt'})\n",
    "extracted_features"
   ]
  },
  {
   "cell_type": "code",
   "execution_count": 13,
   "metadata": {
    "executionInfo": {
     "elapsed": 5,
     "status": "ok",
     "timestamp": 1712450540807,
     "user": {
      "displayName": "hello dello",
      "userId": "14773755107488894293"
     },
     "user_tz": -480
    },
    "id": "QyQEW7fW2gJQ"
   },
   "outputs": [],
   "source": [
    "# array 'dimension' dikembalikan ke bentuk dataframe\n",
    "dimension = pd.DataFrame(dimension)\n",
    "dimension = dimension.rename(columns = {0:'x', 1:'y', 2:'z'})"
   ]
  },
  {
   "cell_type": "code",
   "execution_count": 14,
   "metadata": {
    "executionInfo": {
     "elapsed": 534,
     "status": "ok",
     "timestamp": 1712450544517,
     "user": {
      "displayName": "hello dello",
      "userId": "14773755107488894293"
     },
     "user_tz": -480
    },
    "id": "_3sDnI8gul7B"
   },
   "outputs": [],
   "source": [
    "extracted_features['mean'] = dimension.mean(axis=1)\n",
    "extracted_features['rms'] = np.sqrt(np.mean(dimension ** 2, axis=1))\n",
    "extracted_features['std'] = dimension.std(axis=1)\n",
    "extracted_features['var'] = dimension.var(axis=1)\n",
    "extracted_features['skew'] = dimension.skew(axis=1)\n",
    "extracted_features['crest_factor'] = dimension.max(axis=1) / extracted_features['rms']\n",
    "extracted_features['shape_factor'] = extracted_features['rms'] / extracted_features['mean']"
   ]
  },
  {
   "cell_type": "code",
   "execution_count": 15,
   "metadata": {
    "colab": {
     "base_uri": "https://localhost:8080/",
     "height": 424
    },
    "executionInfo": {
     "elapsed": 14,
     "status": "ok",
     "timestamp": 1712450549005,
     "user": {
      "displayName": "hello dello",
      "userId": "14773755107488894293"
     },
     "user_tz": -480
    },
    "id": "RMdQcVgAFYK3",
    "outputId": "e6b9f9af-69ab-44b7-9ea4-06350f7b2955"
   },
   "outputs": [
    {
     "data": {
      "text/html": [
       "<div>\n",
       "<style scoped>\n",
       "    .dataframe tbody tr th:only-of-type {\n",
       "        vertical-align: middle;\n",
       "    }\n",
       "\n",
       "    .dataframe tbody tr th {\n",
       "        vertical-align: top;\n",
       "    }\n",
       "\n",
       "    .dataframe thead th {\n",
       "        text-align: right;\n",
       "    }\n",
       "</style>\n",
       "<table border=\"1\" class=\"dataframe\">\n",
       "  <thead>\n",
       "    <tr style=\"text-align: right;\">\n",
       "      <th></th>\n",
       "      <th>kurt</th>\n",
       "      <th>mean</th>\n",
       "      <th>rms</th>\n",
       "      <th>std</th>\n",
       "      <th>var</th>\n",
       "      <th>skew</th>\n",
       "      <th>crest_factor</th>\n",
       "      <th>shape_factor</th>\n",
       "    </tr>\n",
       "  </thead>\n",
       "  <tbody>\n",
       "    <tr>\n",
       "      <th>0</th>\n",
       "      <td>-1.5</td>\n",
       "      <td>-1.488417</td>\n",
       "      <td>2.391962</td>\n",
       "      <td>2.293283</td>\n",
       "      <td>5.259146</td>\n",
       "      <td>-1.476772</td>\n",
       "      <td>0.096736</td>\n",
       "      <td>-1.607051</td>\n",
       "    </tr>\n",
       "    <tr>\n",
       "      <th>1</th>\n",
       "      <td>-1.5</td>\n",
       "      <td>0.640023</td>\n",
       "      <td>1.218317</td>\n",
       "      <td>1.269646</td>\n",
       "      <td>1.612000</td>\n",
       "      <td>-1.649658</td>\n",
       "      <td>1.231191</td>\n",
       "      <td>1.903551</td>\n",
       "    </tr>\n",
       "    <tr>\n",
       "      <th>2</th>\n",
       "      <td>-1.5</td>\n",
       "      <td>-0.686633</td>\n",
       "      <td>2.279194</td>\n",
       "      <td>2.661746</td>\n",
       "      <td>7.084889</td>\n",
       "      <td>1.544408</td>\n",
       "      <td>1.030750</td>\n",
       "      <td>-3.319377</td>\n",
       "    </tr>\n",
       "    <tr>\n",
       "      <th>3</th>\n",
       "      <td>-1.5</td>\n",
       "      <td>3.935009</td>\n",
       "      <td>4.954348</td>\n",
       "      <td>3.686719</td>\n",
       "      <td>13.591897</td>\n",
       "      <td>-1.633644</td>\n",
       "      <td>1.304983</td>\n",
       "      <td>1.259044</td>\n",
       "    </tr>\n",
       "    <tr>\n",
       "      <th>4</th>\n",
       "      <td>-1.5</td>\n",
       "      <td>-1.253648</td>\n",
       "      <td>1.338863</td>\n",
       "      <td>0.575657</td>\n",
       "      <td>0.331381</td>\n",
       "      <td>-1.721817</td>\n",
       "      <td>-0.672695</td>\n",
       "      <td>-1.067974</td>\n",
       "    </tr>\n",
       "    <tr>\n",
       "      <th>...</th>\n",
       "      <td>...</td>\n",
       "      <td>...</td>\n",
       "      <td>...</td>\n",
       "      <td>...</td>\n",
       "      <td>...</td>\n",
       "      <td>...</td>\n",
       "      <td>...</td>\n",
       "      <td>...</td>\n",
       "    </tr>\n",
       "    <tr>\n",
       "      <th>149995</th>\n",
       "      <td>-1.5</td>\n",
       "      <td>-0.352867</td>\n",
       "      <td>0.413872</td>\n",
       "      <td>0.264882</td>\n",
       "      <td>0.070162</td>\n",
       "      <td>-1.595648</td>\n",
       "      <td>-0.401382</td>\n",
       "      <td>-1.172883</td>\n",
       "    </tr>\n",
       "    <tr>\n",
       "      <th>149996</th>\n",
       "      <td>-1.5</td>\n",
       "      <td>-0.347723</td>\n",
       "      <td>0.412575</td>\n",
       "      <td>0.271956</td>\n",
       "      <td>0.073960</td>\n",
       "      <td>-1.652970</td>\n",
       "      <td>-0.397647</td>\n",
       "      <td>-1.186505</td>\n",
       "    </tr>\n",
       "    <tr>\n",
       "      <th>149997</th>\n",
       "      <td>-1.5</td>\n",
       "      <td>-0.336234</td>\n",
       "      <td>0.416632</td>\n",
       "      <td>0.301320</td>\n",
       "      <td>0.090793</td>\n",
       "      <td>-1.695759</td>\n",
       "      <td>-0.341049</td>\n",
       "      <td>-1.239114</td>\n",
       "    </tr>\n",
       "    <tr>\n",
       "      <th>149998</th>\n",
       "      <td>-1.5</td>\n",
       "      <td>-0.311538</td>\n",
       "      <td>0.417707</td>\n",
       "      <td>0.340785</td>\n",
       "      <td>0.116134</td>\n",
       "      <td>-1.696798</td>\n",
       "      <td>-0.220949</td>\n",
       "      <td>-1.340788</td>\n",
       "    </tr>\n",
       "    <tr>\n",
       "      <th>149999</th>\n",
       "      <td>-1.5</td>\n",
       "      <td>-0.281898</td>\n",
       "      <td>0.426487</td>\n",
       "      <td>0.391965</td>\n",
       "      <td>0.153637</td>\n",
       "      <td>-1.699282</td>\n",
       "      <td>-0.071833</td>\n",
       "      <td>-1.512913</td>\n",
       "    </tr>\n",
       "  </tbody>\n",
       "</table>\n",
       "<p>150000 rows × 8 columns</p>\n",
       "</div>"
      ],
      "text/plain": [
       "        kurt      mean       rms       std        var      skew  crest_factor  \\\n",
       "0       -1.5 -1.488417  2.391962  2.293283   5.259146 -1.476772      0.096736   \n",
       "1       -1.5  0.640023  1.218317  1.269646   1.612000 -1.649658      1.231191   \n",
       "2       -1.5 -0.686633  2.279194  2.661746   7.084889  1.544408      1.030750   \n",
       "3       -1.5  3.935009  4.954348  3.686719  13.591897 -1.633644      1.304983   \n",
       "4       -1.5 -1.253648  1.338863  0.575657   0.331381 -1.721817     -0.672695   \n",
       "...      ...       ...       ...       ...        ...       ...           ...   \n",
       "149995  -1.5 -0.352867  0.413872  0.264882   0.070162 -1.595648     -0.401382   \n",
       "149996  -1.5 -0.347723  0.412575  0.271956   0.073960 -1.652970     -0.397647   \n",
       "149997  -1.5 -0.336234  0.416632  0.301320   0.090793 -1.695759     -0.341049   \n",
       "149998  -1.5 -0.311538  0.417707  0.340785   0.116134 -1.696798     -0.220949   \n",
       "149999  -1.5 -0.281898  0.426487  0.391965   0.153637 -1.699282     -0.071833   \n",
       "\n",
       "        shape_factor  \n",
       "0          -1.607051  \n",
       "1           1.903551  \n",
       "2          -3.319377  \n",
       "3           1.259044  \n",
       "4          -1.067974  \n",
       "...              ...  \n",
       "149995     -1.172883  \n",
       "149996     -1.186505  \n",
       "149997     -1.239114  \n",
       "149998     -1.340788  \n",
       "149999     -1.512913  \n",
       "\n",
       "[150000 rows x 8 columns]"
      ]
     },
     "execution_count": 15,
     "metadata": {},
     "output_type": "execute_result"
    }
   ],
   "source": [
    "extracted_features"
   ]
  },
  {
   "cell_type": "markdown",
   "metadata": {
    "id": "5mMAwvvEiZk9"
   },
   "source": [
    "## Frequency-domain Feature Extraction"
   ]
  },
  {
   "cell_type": "code",
   "execution_count": 16,
   "metadata": {
    "colab": {
     "base_uri": "https://localhost:8080/",
     "height": 444
    },
    "executionInfo": {
     "elapsed": 583512,
     "status": "ok",
     "timestamp": 1712451242796,
     "user": {
      "displayName": "hello dello",
      "userId": "14773755107488894293"
     },
     "user_tz": -480
    },
    "id": "tnXNC8lFiddR",
    "outputId": "4edd2252-a71a-4ea4-9a4a-1badd87ded47"
   },
   "outputs": [
    {
     "data": {
      "text/html": [
       "<div>\n",
       "<style scoped>\n",
       "    .dataframe tbody tr th:only-of-type {\n",
       "        vertical-align: middle;\n",
       "    }\n",
       "\n",
       "    .dataframe tbody tr th {\n",
       "        vertical-align: top;\n",
       "    }\n",
       "\n",
       "    .dataframe thead th {\n",
       "        text-align: right;\n",
       "    }\n",
       "</style>\n",
       "<table border=\"1\" class=\"dataframe\">\n",
       "  <thead>\n",
       "    <tr style=\"text-align: right;\">\n",
       "      <th></th>\n",
       "      <th>kurt</th>\n",
       "      <th>mean</th>\n",
       "      <th>rms</th>\n",
       "      <th>std</th>\n",
       "      <th>var</th>\n",
       "      <th>skew</th>\n",
       "      <th>crest_factor</th>\n",
       "      <th>shape_factor</th>\n",
       "      <th>fc</th>\n",
       "      <th>rmsf</th>\n",
       "      <th>rvf</th>\n",
       "    </tr>\n",
       "  </thead>\n",
       "  <tbody>\n",
       "    <tr>\n",
       "      <th>0</th>\n",
       "      <td>-1.5</td>\n",
       "      <td>-1.488417</td>\n",
       "      <td>2.391962</td>\n",
       "      <td>2.293283</td>\n",
       "      <td>5.259146</td>\n",
       "      <td>-1.476772</td>\n",
       "      <td>0.096736</td>\n",
       "      <td>-1.607051</td>\n",
       "      <td>-0.017756</td>\n",
       "      <td>0.137772</td>\n",
       "      <td>0.136623</td>\n",
       "    </tr>\n",
       "    <tr>\n",
       "      <th>1</th>\n",
       "      <td>-1.5</td>\n",
       "      <td>0.640023</td>\n",
       "      <td>1.218317</td>\n",
       "      <td>1.269646</td>\n",
       "      <td>1.612000</td>\n",
       "      <td>-1.649658</td>\n",
       "      <td>1.231191</td>\n",
       "      <td>1.903551</td>\n",
       "      <td>0.184429</td>\n",
       "      <td>0.233730</td>\n",
       "      <td>0.143582</td>\n",
       "    </tr>\n",
       "    <tr>\n",
       "      <th>2</th>\n",
       "      <td>-1.5</td>\n",
       "      <td>-0.686633</td>\n",
       "      <td>2.279194</td>\n",
       "      <td>2.661746</td>\n",
       "      <td>7.084889</td>\n",
       "      <td>1.544408</td>\n",
       "      <td>1.030750</td>\n",
       "      <td>-3.319377</td>\n",
       "      <td>0.194853</td>\n",
       "      <td>0.260718</td>\n",
       "      <td>0.173222</td>\n",
       "    </tr>\n",
       "    <tr>\n",
       "      <th>3</th>\n",
       "      <td>-1.5</td>\n",
       "      <td>3.935009</td>\n",
       "      <td>4.954348</td>\n",
       "      <td>3.686719</td>\n",
       "      <td>13.591897</td>\n",
       "      <td>-1.633644</td>\n",
       "      <td>1.304983</td>\n",
       "      <td>1.259044</td>\n",
       "      <td>0.098247</td>\n",
       "      <td>0.166780</td>\n",
       "      <td>0.134770</td>\n",
       "    </tr>\n",
       "    <tr>\n",
       "      <th>4</th>\n",
       "      <td>-1.5</td>\n",
       "      <td>-1.253648</td>\n",
       "      <td>1.338863</td>\n",
       "      <td>0.575657</td>\n",
       "      <td>0.331381</td>\n",
       "      <td>-1.721817</td>\n",
       "      <td>-0.672695</td>\n",
       "      <td>-1.067974</td>\n",
       "      <td>-0.025952</td>\n",
       "      <td>0.069876</td>\n",
       "      <td>0.064878</td>\n",
       "    </tr>\n",
       "    <tr>\n",
       "      <th>...</th>\n",
       "      <td>...</td>\n",
       "      <td>...</td>\n",
       "      <td>...</td>\n",
       "      <td>...</td>\n",
       "      <td>...</td>\n",
       "      <td>...</td>\n",
       "      <td>...</td>\n",
       "      <td>...</td>\n",
       "      <td>...</td>\n",
       "      <td>...</td>\n",
       "      <td>...</td>\n",
       "    </tr>\n",
       "    <tr>\n",
       "      <th>149995</th>\n",
       "      <td>-1.5</td>\n",
       "      <td>-0.352867</td>\n",
       "      <td>0.413872</td>\n",
       "      <td>0.264882</td>\n",
       "      <td>0.070162</td>\n",
       "      <td>-1.595648</td>\n",
       "      <td>-0.401382</td>\n",
       "      <td>-1.172883</td>\n",
       "      <td>0.090397</td>\n",
       "      <td>0.094450</td>\n",
       "      <td>0.027371</td>\n",
       "    </tr>\n",
       "    <tr>\n",
       "      <th>149996</th>\n",
       "      <td>-1.5</td>\n",
       "      <td>-0.347723</td>\n",
       "      <td>0.412575</td>\n",
       "      <td>0.271956</td>\n",
       "      <td>0.073960</td>\n",
       "      <td>-1.652970</td>\n",
       "      <td>-0.397647</td>\n",
       "      <td>-1.186505</td>\n",
       "      <td>0.094519</td>\n",
       "      <td>0.099018</td>\n",
       "      <td>0.029507</td>\n",
       "    </tr>\n",
       "    <tr>\n",
       "      <th>149997</th>\n",
       "      <td>-1.5</td>\n",
       "      <td>-0.336234</td>\n",
       "      <td>0.416632</td>\n",
       "      <td>0.301320</td>\n",
       "      <td>0.090793</td>\n",
       "      <td>-1.695759</td>\n",
       "      <td>-0.341049</td>\n",
       "      <td>-1.239114</td>\n",
       "      <td>0.106753</td>\n",
       "      <td>0.110670</td>\n",
       "      <td>0.029184</td>\n",
       "    </tr>\n",
       "    <tr>\n",
       "      <th>149998</th>\n",
       "      <td>-1.5</td>\n",
       "      <td>-0.311538</td>\n",
       "      <td>0.417707</td>\n",
       "      <td>0.340785</td>\n",
       "      <td>0.116134</td>\n",
       "      <td>-1.696798</td>\n",
       "      <td>-0.220949</td>\n",
       "      <td>-1.340788</td>\n",
       "      <td>0.123104</td>\n",
       "      <td>0.124913</td>\n",
       "      <td>0.021181</td>\n",
       "    </tr>\n",
       "    <tr>\n",
       "      <th>149999</th>\n",
       "      <td>-1.5</td>\n",
       "      <td>-0.281898</td>\n",
       "      <td>0.426487</td>\n",
       "      <td>0.391965</td>\n",
       "      <td>0.153637</td>\n",
       "      <td>-1.699282</td>\n",
       "      <td>-0.071833</td>\n",
       "      <td>-1.512913</td>\n",
       "      <td>0.140713</td>\n",
       "      <td>0.140910</td>\n",
       "      <td>0.007448</td>\n",
       "    </tr>\n",
       "  </tbody>\n",
       "</table>\n",
       "<p>150000 rows × 11 columns</p>\n",
       "</div>"
      ],
      "text/plain": [
       "        kurt      mean       rms       std        var      skew  crest_factor  \\\n",
       "0       -1.5 -1.488417  2.391962  2.293283   5.259146 -1.476772      0.096736   \n",
       "1       -1.5  0.640023  1.218317  1.269646   1.612000 -1.649658      1.231191   \n",
       "2       -1.5 -0.686633  2.279194  2.661746   7.084889  1.544408      1.030750   \n",
       "3       -1.5  3.935009  4.954348  3.686719  13.591897 -1.633644      1.304983   \n",
       "4       -1.5 -1.253648  1.338863  0.575657   0.331381 -1.721817     -0.672695   \n",
       "...      ...       ...       ...       ...        ...       ...           ...   \n",
       "149995  -1.5 -0.352867  0.413872  0.264882   0.070162 -1.595648     -0.401382   \n",
       "149996  -1.5 -0.347723  0.412575  0.271956   0.073960 -1.652970     -0.397647   \n",
       "149997  -1.5 -0.336234  0.416632  0.301320   0.090793 -1.695759     -0.341049   \n",
       "149998  -1.5 -0.311538  0.417707  0.340785   0.116134 -1.696798     -0.220949   \n",
       "149999  -1.5 -0.281898  0.426487  0.391965   0.153637 -1.699282     -0.071833   \n",
       "\n",
       "        shape_factor        fc      rmsf       rvf  \n",
       "0          -1.607051 -0.017756  0.137772  0.136623  \n",
       "1           1.903551  0.184429  0.233730  0.143582  \n",
       "2          -3.319377  0.194853  0.260718  0.173222  \n",
       "3           1.259044  0.098247  0.166780  0.134770  \n",
       "4          -1.067974 -0.025952  0.069876  0.064878  \n",
       "...              ...       ...       ...       ...  \n",
       "149995     -1.172883  0.090397  0.094450  0.027371  \n",
       "149996     -1.186505  0.094519  0.099018  0.029507  \n",
       "149997     -1.239114  0.106753  0.110670  0.029184  \n",
       "149998     -1.340788  0.123104  0.124913  0.021181  \n",
       "149999     -1.512913  0.140713  0.140910  0.007448  \n",
       "\n",
       "[150000 rows x 11 columns]"
      ]
     },
     "execution_count": 16,
     "metadata": {},
     "output_type": "execute_result"
    }
   ],
   "source": [
    "def frequency_centre(signal):\n",
    "    return ((signal.diff()*signal).sum()) / (2 * np.pi * np.sum(signal**2))\n",
    "\n",
    "def mean_square_frequency(signal):\n",
    "    return  np.sum(signal.diff()**2) / (4 * np.pi**2 * np.sum(signal**2))\n",
    "\n",
    "def root_mean_square_frequency(signal):\n",
    "    return  np.sqrt(mean_square_frequency(signal))\n",
    "\n",
    "def root_variance_frequency(signal):\n",
    "    return  np.sqrt(mean_square_frequency(signal) - frequency_centre(signal)**2)\n",
    "\n",
    "# calculate FC, RMSF, and RVF\n",
    "extracted_features['fc'] = dimension.apply(lambda row: frequency_centre(row[['x', 'y', 'z']]), axis=1)\n",
    "extracted_features['rmsf'] = dimension.apply(lambda row: root_mean_square_frequency(row[['x', 'y', 'z']]), axis=1)\n",
    "extracted_features['rvf'] = dimension.apply(lambda row: root_variance_frequency(row[['x', 'y', 'z']]), axis=1)\n",
    "\n",
    "extracted_features"
   ]
  },
  {
   "cell_type": "markdown",
   "metadata": {
    "id": "NQI-ySchhoSq"
   },
   "source": [
    "# Recursive Feature Elimination (RFE)"
   ]
  },
  {
   "cell_type": "markdown",
   "metadata": {},
   "source": [
    "## RFE"
   ]
  },
  {
   "cell_type": "markdown",
   "metadata": {},
   "source": [
    "### GridSearchCV"
   ]
  },
  {
   "cell_type": "code",
   "execution_count": 19,
   "metadata": {},
   "outputs": [
    {
     "name": "stdout",
     "output_type": "stream",
     "text": [
      "Best params:  {'n_features_to_select': 1}\n",
      "Best accuracy:  1.0\n"
     ]
    }
   ],
   "source": [
    "from sklearn.ensemble import RandomForestClassifier\n",
    "from sklearn.feature_selection import RFE\n",
    "from sklearn.model_selection import GridSearchCV\n",
    "\n",
    "RF = RandomForestClassifier(random_state=42)\n",
    "\n",
    "grid = GridSearchCV(RFE(estimator=RF, step=1), {\n",
    "    'n_features_to_select': range(1, 12)\n",
    "}, cv=10, n_jobs=-1)\n",
    "grid.fit(X_train, y_train.ravel())\n",
    "\n",
    "print('Best params: ', grid.best_params_)\n",
    "print('Best accuracy: ', grid.best_score_)"
   ]
  },
  {
   "cell_type": "code",
   "execution_count": 20,
   "metadata": {},
   "outputs": [
    {
     "data": {
      "text/plain": [
       "1.0"
      ]
     },
     "execution_count": 20,
     "metadata": {},
     "output_type": "execute_result"
    }
   ],
   "source": [
    "grid.best_estimator_.score(X_test, y_test)"
   ]
  },
  {
   "cell_type": "markdown",
   "metadata": {},
   "source": [
    "### Manual"
   ]
  },
  {
   "cell_type": "code",
   "execution_count": 24,
   "metadata": {},
   "outputs": [],
   "source": [
    "rfe = RFE(estimator=RF, n_features_to_select=5, step=1)\n",
    "rfe.fit(X_train, y_train.ravel())\n",
    "\n",
    "X_train_sub = rfe.transform(X_train)"
   ]
  },
  {
   "cell_type": "code",
   "execution_count": 25,
   "metadata": {},
   "outputs": [
    {
     "data": {
      "text/plain": [
       "array([False,  True,  True,  True,  True, False,  True, False, False,\n",
       "       False, False])"
      ]
     },
     "execution_count": 25,
     "metadata": {},
     "output_type": "execute_result"
    }
   ],
   "source": [
    "rfe.support_"
   ]
  },
  {
   "cell_type": "code",
   "execution_count": 36,
   "metadata": {},
   "outputs": [],
   "source": [
    "from sklearn.feature_selection import RFE\n",
    "from sklearn.ensemble import RandomForestClassifier\n",
    "\n",
    "RF = RandomForestClassifier()\n",
    "rfe = RFE(estimator=RF, n_features_to_select=5, step=1)\n",
    "rfe.fit(X_train, y_train.ravel())\n",
    "\n",
    "X_train = rfe.transform(X_train)"
   ]
  },
  {
   "cell_type": "code",
   "execution_count": 37,
   "metadata": {},
   "outputs": [
    {
     "data": {
      "text/plain": [
       "Index(['mean', 'rms', 'std', 'var', 'crest_factor'], dtype='object')"
      ]
     },
     "execution_count": 37,
     "metadata": {},
     "output_type": "execute_result"
    }
   ],
   "source": [
    "extracted_features.columns[0:][rfe.support_]"
   ]
  },
  {
   "cell_type": "markdown",
   "metadata": {},
   "source": [
    "# Train Test Split"
   ]
  },
  {
   "cell_type": "code",
   "execution_count": 38,
   "metadata": {},
   "outputs": [],
   "source": [
    "from sklearn.model_selection import train_test_split\n",
    "\n",
    "X = extracted_features.loc[:, ['mean', 'rms', 'std', 'var', 'crest_factor']]\n",
    "y = df.iloc[:, [3]].values"
   ]
  },
  {
   "cell_type": "code",
   "execution_count": 39,
   "metadata": {},
   "outputs": [],
   "source": [
    "X_train, X_test, y_train, y_test = train_test_split(X, y, test_size = 0.2, random_state = 137)"
   ]
  },
  {
   "cell_type": "markdown",
   "metadata": {
    "id": "WltXd8T0ijqF"
   },
   "source": [
    "## Random Forest (GridSearchCV and Manual)"
   ]
  },
  {
   "cell_type": "code",
   "execution_count": 42,
   "metadata": {
    "colab": {
     "base_uri": "https://localhost:8080/"
    },
    "executionInfo": {
     "elapsed": 2430,
     "status": "ok",
     "timestamp": 1712452987332,
     "user": {
      "displayName": "hello dello",
      "userId": "14773755107488894293"
     },
     "user_tz": -480
    },
    "id": "cWRgOBIZhqYQ",
    "outputId": "9ce104a4-57ae-496a-9d13-c71efe85d9d7"
   },
   "outputs": [
    {
     "name": "stderr",
     "output_type": "stream",
     "text": [
      "C:\\Users\\ACER\\AppData\\Local\\Programs\\Python\\Python310\\lib\\site-packages\\sklearn\\base.py:1474: DataConversionWarning: A column-vector y was passed when a 1d array was expected. Please change the shape of y to (n_samples,), for example using ravel().\n",
      "  return fit_method(estimator, *args, **kwargs)\n"
     ]
    },
    {
     "name": "stdout",
     "output_type": "stream",
     "text": [
      "Training accuracy:  1.0\n",
      "Testing accuracy:  1.0\n"
     ]
    }
   ],
   "source": [
    "from sklearn.metrics import accuracy_score\n",
    "\n",
    "RF = RandomForestClassifier(random_state=42)\n",
    "model = RF.fit(X_train, y_train)\n",
    "y_pred = model.predict(X_test)\n",
    "\n",
    "print(\"Training accuracy: \", model.score(X_train, y_train))\n",
    "print(\"Testing accuracy: \", accuracy_score(y_pred, y_test))"
   ]
  },
  {
   "cell_type": "code",
   "execution_count": null,
   "metadata": {
    "colab": {
     "base_uri": "https://localhost:8080/",
     "height": 547
    },
    "executionInfo": {
     "elapsed": 565,
     "status": "ok",
     "timestamp": 1712452990607,
     "user": {
      "displayName": "hello dello",
      "userId": "14773755107488894293"
     },
     "user_tz": -480
    },
    "id": "DOrQ4NYhRBom",
    "outputId": "ff3990b6-2c3c-4c9e-b1bb-0cbe214fefcb"
   },
   "outputs": [],
   "source": [
    "\"\"\"\n",
    "from sklearn.metrics import confusion_matrix\n",
    "import seaborn as sns\n",
    "import matplotlib.pyplot as plt\n",
    "\n",
    "y_pred=RF.predict(X_test)\n",
    "cm = confusion_matrix(y_test, y_pred)\n",
    "\n",
    "plt.figure(figsize=(8, 6))\n",
    "sns.heatmap(cm, annot=True, cmap='Blues', fmt='d')\n",
    "plt.xlabel('Predicted')\n",
    "plt.ylabel('True')\n",
    "plt.show()\n",
    "\"\"\""
   ]
  },
  {
   "cell_type": "markdown",
   "metadata": {
    "id": "xBOaO1P1_vlV"
   },
   "source": []
  }
 ],
 "metadata": {
  "colab": {
   "authorship_tag": "ABX9TyOTkEWNyru6+1nzrOEt5zlj",
   "collapsed_sections": [
    "oE6efsd9aMPG"
   ],
   "mount_file_id": "1JrkG_mZ6wBIwBKJNJ5T5K4zgIWYR8Sgu",
   "provenance": [
    {
     "file_id": "1s2RSgmOGAeLpFvKJHtJAcX0qN7SWRIiZ",
     "timestamp": 1712449827718
    },
    {
     "file_id": "1_xJoRvjNQJby2rtoQcNqp_sbCdfHsswM",
     "timestamp": 1712397545575
    },
    {
     "file_id": "1Zt40acLKjXOZNl3vJlmjkzQb1srmVuK3",
     "timestamp": 1712383847409
    },
    {
     "file_id": "1K2A0nADZjyk6jS3tEOWKnoQJZuheS2sP",
     "timestamp": 1712325270215
    },
    {
     "file_id": "1JrkG_mZ6wBIwBKJNJ5T5K4zgIWYR8Sgu",
     "timestamp": 1712135390903
    }
   ]
  },
  "kernelspec": {
   "display_name": "Python 3 (ipykernel)",
   "language": "python",
   "name": "python3"
  },
  "language_info": {
   "codemirror_mode": {
    "name": "ipython",
    "version": 3
   },
   "file_extension": ".py",
   "mimetype": "text/x-python",
   "name": "python",
   "nbconvert_exporter": "python",
   "pygments_lexer": "ipython3",
   "version": "3.10.0"
  }
 },
 "nbformat": 4,
 "nbformat_minor": 4
}
